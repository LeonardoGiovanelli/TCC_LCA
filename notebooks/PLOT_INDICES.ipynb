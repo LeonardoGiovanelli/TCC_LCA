{
 "cells": [
  {
   "cell_type": "code",
   "execution_count": 2,
   "metadata": {
    "execution": {
     "iopub.execute_input": "2021-06-28T13:59:29.882885Z",
     "iopub.status.busy": "2021-06-28T13:59:29.882885Z",
     "iopub.status.idle": "2021-06-28T13:59:29.895887Z",
     "shell.execute_reply": "2021-06-28T13:59:29.895887Z",
     "shell.execute_reply.started": "2021-06-28T13:59:29.882885Z"
    },
    "tags": []
   },
   "outputs": [],
   "source": [
    "#  cd OneDrive\\INSPER\\PADS\\TCC\\FINAL\\TABELA_ERRO_PREVISÃO\\"
   ]
  },
  {
   "cell_type": "code",
   "execution_count": 3,
   "metadata": {
    "execution": {
     "iopub.execute_input": "2021-06-28T13:59:29.897887Z",
     "iopub.status.busy": "2021-06-28T13:59:29.897887Z",
     "iopub.status.idle": "2021-06-28T13:59:29.911884Z",
     "shell.execute_reply": "2021-06-28T13:59:29.911884Z",
     "shell.execute_reply.started": "2021-06-28T13:59:29.897887Z"
    },
    "tags": []
   },
   "outputs": [],
   "source": [
    "import warnings\n",
    "warnings.simplefilter(action='ignore', category=FutureWarning)\n",
    "warnings.filterwarnings('ignore')"
   ]
  },
  {
   "cell_type": "code",
   "execution_count": 4,
   "metadata": {
    "execution": {
     "iopub.execute_input": "2021-06-28T13:59:29.912885Z",
     "iopub.status.busy": "2021-06-28T13:59:29.912885Z",
     "iopub.status.idle": "2021-06-28T13:59:29.927884Z",
     "shell.execute_reply": "2021-06-28T13:59:29.927884Z",
     "shell.execute_reply.started": "2021-06-28T13:59:29.912885Z"
    },
    "tags": []
   },
   "outputs": [],
   "source": [
    "#from jupyter_datatables import init_datatables_mode\n",
    "#from jupyter_require import require\n",
    "#from jupyter_require import load_css\n",
    "#import string"
   ]
  },
  {
   "cell_type": "code",
   "execution_count": 5,
   "metadata": {
    "execution": {
     "iopub.execute_input": "2021-06-28T13:59:29.928884Z",
     "iopub.status.busy": "2021-06-28T13:59:29.928884Z",
     "iopub.status.idle": "2021-06-28T13:59:30.022885Z",
     "shell.execute_reply": "2021-06-28T13:59:30.021891Z",
     "shell.execute_reply.started": "2021-06-28T13:59:29.928884Z"
    },
    "tags": []
   },
   "outputs": [],
   "source": [
    "import numpy as np\n",
    "import math"
   ]
  },
  {
   "cell_type": "code",
   "execution_count": 6,
   "metadata": {
    "execution": {
     "iopub.execute_input": "2021-06-28T13:59:30.023887Z",
     "iopub.status.busy": "2021-06-28T13:59:30.023887Z",
     "iopub.status.idle": "2021-06-28T13:59:30.779923Z",
     "shell.execute_reply": "2021-06-28T13:59:30.779923Z",
     "shell.execute_reply.started": "2021-06-28T13:59:30.023887Z"
    },
    "tags": []
   },
   "outputs": [],
   "source": [
    "import itertools\n",
    "from sklearn.metrics import r2_score\n",
    "from functools import reduce"
   ]
  },
  {
   "cell_type": "code",
   "execution_count": 7,
   "metadata": {
    "execution": {
     "iopub.execute_input": "2021-06-28T13:59:30.780886Z",
     "iopub.status.busy": "2021-06-28T13:59:30.780886Z",
     "iopub.status.idle": "2021-06-28T13:59:31.019885Z",
     "shell.execute_reply": "2021-06-28T13:59:31.019885Z",
     "shell.execute_reply.started": "2021-06-28T13:59:30.780886Z"
    },
    "tags": []
   },
   "outputs": [],
   "source": [
    "import pandas as pd\n",
    "pd.set_option('display.max_columns', None)\n",
    "pd.options.display.float_format = '{:.2f}'.format"
   ]
  },
  {
   "cell_type": "code",
   "execution_count": 8,
   "metadata": {
    "execution": {
     "iopub.execute_input": "2021-06-28T13:59:31.020886Z",
     "iopub.status.busy": "2021-06-28T13:59:31.020886Z",
     "iopub.status.idle": "2021-06-28T13:59:31.067886Z",
     "shell.execute_reply": "2021-06-28T13:59:31.067886Z",
     "shell.execute_reply.started": "2021-06-28T13:59:31.020886Z"
    }
   },
   "outputs": [],
   "source": [
    "#import matplotlib.pyplot as plt\n",
    "import ipywidgets\n",
    "from ipywidgets import interactive,interactive_output\n",
    "from ipywidgets import Layout, Button, Label\n",
    "from ipywidgets import GridspecLayout,HBox, VBox, Box"
   ]
  },
  {
   "cell_type": "code",
   "execution_count": 9,
   "metadata": {
    "execution": {
     "iopub.execute_input": "2021-06-28T13:59:31.069886Z",
     "iopub.status.busy": "2021-06-28T13:59:31.069886Z",
     "iopub.status.idle": "2021-06-28T13:59:31.177886Z",
     "shell.execute_reply": "2021-06-28T13:59:31.177886Z",
     "shell.execute_reply.started": "2021-06-28T13:59:31.069886Z"
    },
    "tags": []
   },
   "outputs": [],
   "source": [
    "import plotly.graph_objects as go\n",
    "import plotly.express as px\n",
    "\n",
    "from plotly.subplots import make_subplots"
   ]
  },
  {
   "cell_type": "code",
   "execution_count": 10,
   "metadata": {
    "execution": {
     "iopub.execute_input": "2021-06-28T13:59:31.179887Z",
     "iopub.status.busy": "2021-06-28T13:59:31.179887Z",
     "iopub.status.idle": "2021-06-28T13:59:31.194891Z",
     "shell.execute_reply": "2021-06-28T13:59:31.193886Z",
     "shell.execute_reply.started": "2021-06-28T13:59:31.179887Z"
    },
    "tags": []
   },
   "outputs": [],
   "source": [
    "regressao=['knn','gb','mlr','rf']\n",
    "regressao_mlr=['knn','gb','rf']\n",
    "regressao=['knn','gb','rf']"
   ]
  },
  {
   "cell_type": "code",
   "execution_count": 11,
   "metadata": {
    "execution": {
     "iopub.execute_input": "2021-06-28T13:59:31.196888Z",
     "iopub.status.busy": "2021-06-28T13:59:31.196888Z",
     "iopub.status.idle": "2021-06-28T13:59:31.739182Z",
     "shell.execute_reply": "2021-06-28T13:59:31.738204Z",
     "shell.execute_reply.started": "2021-06-28T13:59:31.196888Z"
    },
    "tags": []
   },
   "outputs": [],
   "source": [
    "url='https://raw.githubusercontent.com/LeonardoGiovanelli/TCC_LCA/main/erro2/df_erro_EQM_indici_data_regressao_tsw_5.csv'\n",
    "erro_adjested_tidy=pd.read_csv(url)\n",
    "erro_adjested_tidy=erro_adjested_tidy.set_index(['Indice','Nd','Regressao','tsw'])\n",
    "erro_adjested_tidy=erro_adjested_tidy.round(2)\n",
    "erro_adjested_tidy.rename(columns={'Mes':\"Mês\"},inplace=True)"
   ]
  },
  {
   "cell_type": "code",
   "execution_count": 12,
   "metadata": {
    "execution": {
     "iopub.execute_input": "2021-06-28T13:59:31.741181Z",
     "iopub.status.busy": "2021-06-28T13:59:31.741181Z",
     "iopub.status.idle": "2021-06-28T13:59:31.755179Z",
     "shell.execute_reply": "2021-06-28T13:59:31.754182Z",
     "shell.execute_reply.started": "2021-06-28T13:59:31.741181Z"
    },
    "tags": []
   },
   "outputs": [],
   "source": [
    "indices=list(erro_adjested_tidy.index.levels[0])"
   ]
  },
  {
   "cell_type": "code",
   "execution_count": 13,
   "metadata": {
    "execution": {
     "iopub.execute_input": "2021-06-28T13:59:31.756181Z",
     "iopub.status.busy": "2021-06-28T13:59:31.756181Z",
     "iopub.status.idle": "2021-06-28T13:59:32.207374Z",
     "shell.execute_reply": "2021-06-28T13:59:32.207374Z",
     "shell.execute_reply.started": "2021-06-28T13:59:31.756181Z"
    },
    "tags": []
   },
   "outputs": [],
   "source": [
    "url='https://raw.githubusercontent.com/LeonardoGiovanelli/TCC_LCA/main/previsao2/df_PREVISAO_indici_data_regressao_tsw.csv'\n",
    "previsao=pd.read_csv(url).iloc[:,1:]\n",
    "previsao=previsao.round(2)\n",
    "previsao=previsao.set_index(['Indice','Nd','Regressao','tsw'])\n",
    "previsao=previsao.rename(columns={\"Eroo\": \"Erro\"})\n",
    "#previsao.head()"
   ]
  },
  {
   "cell_type": "code",
   "execution_count": 14,
   "metadata": {
    "execution": {
     "iopub.execute_input": "2021-06-28T13:59:32.208374Z",
     "iopub.status.busy": "2021-06-28T13:59:32.208374Z",
     "iopub.status.idle": "2021-06-28T13:59:32.222384Z",
     "shell.execute_reply": "2021-06-28T13:59:32.222384Z",
     "shell.execute_reply.started": "2021-06-28T13:59:32.208374Z"
    },
    "tags": []
   },
   "outputs": [],
   "source": [
    "def df_color(df,cmap,low,high): \n",
    "    dff=df.style.background_gradient(cmap=cmap, low=low, high=high)\n",
    "    return(dff)"
   ]
  },
  {
   "cell_type": "code",
   "execution_count": 15,
   "metadata": {
    "execution": {
     "iopub.execute_input": "2021-06-28T13:59:32.224375Z",
     "iopub.status.busy": "2021-06-28T13:59:32.224375Z",
     "iopub.status.idle": "2021-06-28T13:59:32.255374Z",
     "shell.execute_reply": "2021-06-28T13:59:32.254378Z",
     "shell.execute_reply.started": "2021-06-28T13:59:32.224375Z"
    },
    "tags": []
   },
   "outputs": [],
   "source": [
    "from itertools import compress, product\n",
    "\n",
    "def combinations(items):\n",
    "    return ( set(compress(items,mask)) for mask in product(*[[0,1]]*len(items)) )"
   ]
  },
  {
   "cell_type": "code",
   "execution_count": 16,
   "metadata": {
    "execution": {
     "iopub.execute_input": "2021-06-28T13:59:32.256376Z",
     "iopub.status.busy": "2021-06-28T13:59:32.256376Z",
     "iopub.status.idle": "2021-06-28T13:59:32.272373Z",
     "shell.execute_reply": "2021-06-28T13:59:32.270375Z",
     "shell.execute_reply.started": "2021-06-28T13:59:32.256376Z"
    },
    "tags": []
   },
   "outputs": [],
   "source": [
    "def w_avg(df, values, weights):\n",
    "    d = df[values]\n",
    "    w = df[weights]\n",
    "    return (d * w).sum() / (w.sum())"
   ]
  },
  {
   "cell_type": "code",
   "execution_count": 17,
   "metadata": {
    "execution": {
     "iopub.execute_input": "2021-06-28T13:59:32.273377Z",
     "iopub.status.busy": "2021-06-28T13:59:32.273377Z",
     "iopub.status.idle": "2021-06-28T13:59:32.287377Z",
     "shell.execute_reply": "2021-06-28T13:59:32.286377Z",
     "shell.execute_reply.started": "2021-06-28T13:59:32.273377Z"
    },
    "tags": []
   },
   "outputs": [],
   "source": [
    "def add_data(r):\n",
    "    r['Dia']=\"1\"\n",
    "    r[\"Ano\"]=r[\"Ano\"].apply(lambda x: math.trunc(x))\n",
    "    r[\"Mês\"]=r[\"Mês\"].apply(lambda x: math.trunc(x))\n",
    "    r['data']=pd.to_datetime(r[\"Ano\"].astype(str) + \"/\" + r[\"Mês\"].astype(str) + \"/\" + r[\"Dia\"])\n",
    "    return(r)"
   ]
  },
  {
   "cell_type": "code",
   "execution_count": 18,
   "metadata": {
    "execution": {
     "iopub.execute_input": "2021-06-28T13:59:32.290373Z",
     "iopub.status.busy": "2021-06-28T13:59:32.289380Z",
     "iopub.status.idle": "2021-06-28T13:59:32.304370Z",
     "shell.execute_reply": "2021-06-28T13:59:32.302377Z",
     "shell.execute_reply.started": "2021-06-28T13:59:32.290373Z"
    },
    "tags": []
   },
   "outputs": [],
   "source": [
    "# #########ERRO"
   ]
  },
  {
   "cell_type": "code",
   "execution_count": 19,
   "metadata": {
    "execution": {
     "iopub.execute_input": "2021-06-28T13:59:32.305372Z",
     "iopub.status.busy": "2021-06-28T13:59:32.304370Z",
     "iopub.status.idle": "2021-06-28T13:59:32.318371Z",
     "shell.execute_reply": "2021-06-28T13:59:32.318371Z",
     "shell.execute_reply.started": "2021-06-28T13:59:32.305372Z"
    },
    "tags": []
   },
   "outputs": [],
   "source": [
    "import sklearn\n",
    "from sklearn.metrics import r2_score\n",
    "import math\n",
    "\n",
    "def mean_erro(indice_nome,reg):\n",
    "\n",
    "    p=erro_adjested_tidy.loc[indice_nome,:,reg,:].groupby(['Ano','Mês']).\\\n",
    "    apply(lambda x: np.average(x.Previsto, weights=1/(x['Real-Previsto']+.0002)))\n",
    "    p=pd.DataFrame(p)\n",
    "    \n",
    "    erro=erro_adjested_tidy.loc[indice_nome,:,reg,:].groupby(['Ano','Mês']).\\\n",
    "    apply(lambda x: np.average(x.Erro, weights=1/(x['Real-Previsto']+.0002)))\n",
    "    erro=pd.DataFrame(erro).reset_index().iloc[:,-1]\n",
    "        \n",
    "    r=erro_adjested_tidy.loc[indice_nome,0,'knn',0]\n",
    "    r=r['Real']\n",
    "    r=r.reset_index()\n",
    "\n",
    "    p=pd.concat([p.reset_index(),r],axis=1,ignore_index=True)\n",
    "    p=p[[0,1,7,2]]\n",
    "\n",
    "    p.columns=['Ano','Mes','Real','Previsto']\n",
    "    \n",
    "    p['Erro']=erro\n",
    "    p['Real-Previsto']=p['Real']-p['Previsto']\n",
    "    p['Eqm(%)']=100*((p['Real-Previsto']/p['Real'])**2)**.5\n",
    "  \n",
    "    return(p)"
   ]
  },
  {
   "cell_type": "code",
   "execution_count": 20,
   "metadata": {
    "execution": {
     "iopub.execute_input": "2021-06-28T13:59:32.320372Z",
     "iopub.status.busy": "2021-06-28T13:59:32.320372Z",
     "iopub.status.idle": "2021-06-28T13:59:32.335374Z",
     "shell.execute_reply": "2021-06-28T13:59:32.334371Z",
     "shell.execute_reply.started": "2021-06-28T13:59:32.320372Z"
    },
    "tags": []
   },
   "outputs": [],
   "source": [
    "def mean_erro_index(indice_nome):\n",
    "    \n",
    "    regressao=['knn','gb','rf']\n",
    "    \n",
    "    reg_comb=list(combinations(regressao))[1:]\n",
    "    reg_comb=list(reg_comb)\n",
    "\n",
    "    t=[mean_erro(indice_nome,r) for r in reg_comb]\n",
    "\n",
    "    t_rp_mean=[np.mean(x['Real-Previsto']**2)**0.5 for x in t]\n",
    "    t_rp_std=[np.std((x['Real-Previsto'])) for x in t]\n",
    "\n",
    "    t_eqm_mean=[np.mean(x['Eqm(%)']**2)**.5 for x in t]\n",
    "    t_eqm_std=[np.std(abs(x['Eqm(%)'])) for x in t]\n",
    "\n",
    "    t_r2=[r2_score(x['Real'],x['Previsto']) for x in t]\n",
    "\n",
    "    t_pd=pd.DataFrame([reg_comb,t_rp_mean,t_rp_std,t_eqm_mean,t_eqm_std,t_r2]).transpose()\n",
    "    t_pd.columns=['reg','rp_mean','rp_std','eqm_mean(%)','eqm_std(%)','r2']\n",
    "\n",
    "    var='eqm_mean(%)'\n",
    "    #var='r2'\n",
    "    \n",
    "    if var=='eqm_mean(%)':\n",
    "        t_summary=t_pd.sort_values(by=[var],ascending=True)\n",
    "    if var=='r2':\n",
    "        t_summary=t_pd.sort_values(by=[var],ascending=False)\n",
    "    \n",
    "    best_index=t_summary.index[0]\n",
    "    t_best=t[best_index]\n",
    "    \n",
    "    return([t_summary,t_best.rename(columns={'Mes':'Mês'})])"
   ]
  },
  {
   "cell_type": "code",
   "execution_count": 21,
   "metadata": {
    "execution": {
     "iopub.execute_input": "2021-06-28T13:59:32.336372Z",
     "iopub.status.busy": "2021-06-28T13:59:32.335374Z",
     "iopub.status.idle": "2021-06-28T13:59:34.058371Z",
     "shell.execute_reply": "2021-06-28T13:59:34.056532Z",
     "shell.execute_reply.started": "2021-06-28T13:59:32.336372Z"
    },
    "tags": []
   },
   "outputs": [],
   "source": [
    "erro_merged=[mean_erro_index(i) for i in indices]"
   ]
  },
  {
   "cell_type": "code",
   "execution_count": 22,
   "metadata": {
    "execution": {
     "iopub.execute_input": "2021-06-28T13:59:34.061371Z",
     "iopub.status.busy": "2021-06-28T13:59:34.061371Z",
     "iopub.status.idle": "2021-06-28T13:59:34.140754Z",
     "shell.execute_reply": "2021-06-28T13:59:34.138893Z",
     "shell.execute_reply.started": "2021-06-28T13:59:34.061371Z"
    },
    "tags": []
   },
   "outputs": [],
   "source": [
    "erro_comp=pd.concat([x[0].iloc[0,-3:] for x in erro_merged],axis=1).reset_index()\n",
    "erro_comp.iloc[0:2,:]=erro_comp.iloc[0:2,:].round(0)\n",
    "erro_comp=erro_comp.set_index('index')\n",
    "erro_comp.columns=indices\n",
    "erro_comp.index.names = ['']\n",
    "erro_comp=erro_comp.transpose().sort_values('r2',ascending=False)"
   ]
  },
  {
   "cell_type": "code",
   "execution_count": 23,
   "metadata": {
    "execution": {
     "iopub.execute_input": "2021-06-28T13:59:34.141753Z",
     "iopub.status.busy": "2021-06-28T13:59:34.141753Z",
     "iopub.status.idle": "2021-06-28T13:59:34.197776Z",
     "shell.execute_reply": "2021-06-28T13:59:34.197776Z",
     "shell.execute_reply.started": "2021-06-28T13:59:34.141753Z"
    },
    "tags": []
   },
   "outputs": [],
   "source": [
    "teste=erro_adjested_tidy\n",
    "\n",
    "teste_0=teste[np.in1d(teste.index.get_level_values(1), [0])]\n",
    "teste_0=teste_0.groupby(['Indice','Regressao']).mean()\n",
    "teste_0f=teste_0.reset_index().pivot(index='Indice', columns='Regressao', values='Real-Previsto(%)').round(0)\n",
    "\n",
    "\n",
    "teste_1=teste[np.in1d(teste.index.get_level_values(1), [1])]\n",
    "teste_1=teste_1.groupby(['Indice','Regressao']).mean()\n",
    "teste_1f=teste_1.reset_index().pivot(index='Indice', columns='Regressao', values='Real-Previsto(%)').round(0)"
   ]
  },
  {
   "cell_type": "code",
   "execution_count": 24,
   "metadata": {
    "execution": {
     "iopub.execute_input": "2021-06-28T13:59:34.200200Z",
     "iopub.status.busy": "2021-06-28T13:59:34.198904Z",
     "iopub.status.idle": "2021-06-28T13:59:34.213753Z",
     "shell.execute_reply": "2021-06-28T13:59:34.213753Z",
     "shell.execute_reply.started": "2021-06-28T13:59:34.198904Z"
    },
    "tags": []
   },
   "outputs": [],
   "source": [
    "####### previsao"
   ]
  },
  {
   "cell_type": "code",
   "execution_count": 25,
   "metadata": {
    "execution": {
     "iopub.execute_input": "2021-06-28T13:59:34.215903Z",
     "iopub.status.busy": "2021-06-28T13:59:34.214757Z",
     "iopub.status.idle": "2021-06-28T13:59:34.236963Z",
     "shell.execute_reply": "2021-06-28T13:59:34.229800Z",
     "shell.execute_reply.started": "2021-06-28T13:59:34.214757Z"
    },
    "tags": []
   },
   "outputs": [],
   "source": [
    "def mean_previsao(indice_nome):\n",
    "    \n",
    "    indices=list(previsao.index.levels[0])\n",
    "    index_number=indices.index(indice_nome)\n",
    "    \n",
    "    reg=erro_merged[index_number][0].iloc[0,0]\n",
    "    #############\n",
    "    \n",
    "    p=previsao.loc[indice_nome,:,reg,:].groupby(['Ano','Mês']).\\\n",
    "    apply(lambda x: np.average(x.Previsão, weights=1/(x['EQM(%)']+.000002)))\n",
    "    p=pd.DataFrame(p)\n",
    "\n",
    "    erro=previsao.loc[indice_nome,:,reg,:].groupby(['Ano','Mês']).\\\n",
    "    apply(lambda x: np.average(x.Erro, weights=1/(x['EQM(%)']+.000002)))\n",
    "    erro=pd.DataFrame(erro)\n",
    "    \n",
    "    eqm=previsao.loc[indice_nome,:,reg,:].groupby(['Ano','Mês'])['EQM(%)'].mean()\n",
    "    df=pd.concat([p,erro,eqm],axis=1,ignore_index=True)\n",
    "\n",
    "    df.columns=['Previsão','Erro','EQM(%)']\n",
    "    return(add_data(df.reset_index()))"
   ]
  },
  {
   "cell_type": "code",
   "execution_count": 26,
   "metadata": {
    "execution": {
     "iopub.execute_input": "2021-06-28T13:59:34.237754Z",
     "iopub.status.busy": "2021-06-28T13:59:34.237754Z",
     "iopub.status.idle": "2021-06-28T13:59:34.402754Z",
     "shell.execute_reply": "2021-06-28T13:59:34.401753Z",
     "shell.execute_reply.started": "2021-06-28T13:59:34.237754Z"
    },
    "tags": []
   },
   "outputs": [],
   "source": [
    "previsao_merged=[mean_previsao(i) for i in indices]"
   ]
  },
  {
   "cell_type": "code",
   "execution_count": 27,
   "metadata": {
    "execution": {
     "iopub.execute_input": "2021-06-28T13:59:34.403754Z",
     "iopub.status.busy": "2021-06-28T13:59:34.402754Z",
     "iopub.status.idle": "2021-06-28T13:59:34.418753Z",
     "shell.execute_reply": "2021-06-28T13:59:34.417997Z",
     "shell.execute_reply.started": "2021-06-28T13:59:34.403754Z"
    },
    "tags": []
   },
   "outputs": [],
   "source": [
    "def plot_prev(index):\n",
    " \n",
    "    colors=[\"black\",\"blue\"]\n",
    "   \n",
    "    indices=list(erro_adjested_tidy.index.levels[0])\n",
    "    index_number=indices.index(index)\n",
    "    \n",
    "############# data   \n",
    "    r=previsao_merged[index_number].round(2)              \n",
    "\n",
    "    min=np.min(r['Previsão']-r['Erro'])\n",
    "    max=np.max(r['Previsão']+r['Erro'])\n",
    "########################################    \n"
   ]
  },
  {
   "cell_type": "code",
   "execution_count": 28,
   "metadata": {
    "execution": {
     "iopub.execute_input": "2021-06-28T13:59:34.459789Z",
     "iopub.status.busy": "2021-06-28T13:59:34.459789Z",
     "iopub.status.idle": "2021-06-28T13:59:34.482755Z",
     "shell.execute_reply": "2021-06-28T13:59:34.481754Z",
     "shell.execute_reply.started": "2021-06-28T13:59:34.459789Z"
    },
    "tags": []
   },
   "outputs": [],
   "source": [
    "def plot_erro(index):\n",
    " \n",
    " ############ get data \n",
    "    colors=[\"black\",\"blue\"]\n",
    "   \n",
    "    indices=list(erro_adjested_tidy.index.levels[0])\n",
    "    index_number=indices.index(index)\n",
    "    r=add_data(erro_merged[index_number][1]).round(2)              \n",
    "\n",
    "    min=np.min(np.min(r[['Real','Previsto']]))\n",
    "    max=np.max(np.max(r[['Real','Previsto']]))\n",
    "    \n",
    "########################################    \n",
    "    fig = go.Figure() \n",
    "    \n",
    "    fig.add_trace(go.Scatter(\n",
    "    line=dict(color=colors[0]),\n",
    "    x=r['data'],\n",
    "    y=r['Previsto'],\n",
    "     error_y=dict(\n",
    "   type='data',\n",
    "   symmetric=True,\n",
    "   array=r['Erro']),\n",
    "     name=\"Previsto\"))\n",
    "\n",
    "    fig.add_trace(go.Scatter(\n",
    "        line=dict(color=colors[1]),\n",
    "        x=r['data'],\n",
    "        y=r['Real'],\n",
    "       name=\"Real\"))\n",
    "\n",
    "    fig.update_xaxes(dtick=\"M1\",    tickformat=\"%b\\n%Y\")\n",
    "    fig.update_layout(title={'text':index,'x':0.5,'xanchor': 'center'})\n",
    "    fig.show()"
   ]
  },
  {
   "cell_type": "code",
   "execution_count": 29,
   "metadata": {
    "execution": {
     "iopub.execute_input": "2021-06-28T13:59:34.484950Z",
     "iopub.status.busy": "2021-06-28T13:59:34.484950Z",
     "iopub.status.idle": "2021-06-28T13:59:34.498755Z",
     "shell.execute_reply": "2021-06-28T13:59:34.497753Z",
     "shell.execute_reply.started": "2021-06-28T13:59:34.484950Z"
    }
   },
   "outputs": [],
   "source": [
    "def prever(index):    \n",
    "    indices=list(erro_adjested_tidy.index.levels[0])\n",
    "    n=indices.index(index)\n",
    "################    \n",
    "    e=erro_merged[n][1]\n",
    "\n",
    "    e=add_data(e)\n",
    "    e=e.iloc[:,[-1,2,3,4]]\n",
    "    e=e.rename(columns={\"Previsto\":\"Previsão\"})\n",
    "##############\n",
    "    p=previsao_merged[n]\n",
    "    p=add_data(p)\n",
    "    p=p.iloc[:,[-1,2,3]]\n",
    "###############    \n",
    "    ep=pd.concat([e,p],axis=0).reset_index()\n",
    "###############    \n",
    "    ep_m=pd.melt(ep, id_vars=['data'], value_vars=['Real','Previsão']).dropna().reset_index()\n",
    "    \n",
    "\n",
    "    l=[[0]*len(ep_m[ep_m.variable==\"Real\"]),list(e['Erro'].append(p['Erro']).reset_index().iloc[:,1])]\n",
    "    l = list(itertools.chain(*l))\n",
    "    erro=l\n",
    "    ep_m['Erro']=erro\n",
    "    ep_m=ep_m.round(2)\n",
    "    return(ep_m)"
   ]
  },
  {
   "cell_type": "code",
   "execution_count": 30,
   "metadata": {
    "execution": {
     "iopub.execute_input": "2021-06-28T13:59:34.501759Z",
     "iopub.status.busy": "2021-06-28T13:59:34.500772Z",
     "iopub.status.idle": "2021-06-28T13:59:34.513754Z",
     "shell.execute_reply": "2021-06-28T13:59:34.513754Z",
     "shell.execute_reply.started": "2021-06-28T13:59:34.501759Z"
    },
    "tags": []
   },
   "outputs": [],
   "source": [
    "def plot_prev_erro_bar(index):\n",
    "    \n",
    "    ep_m=prever(index)\n",
    "    \n",
    "###############################    \n",
    "    fig = px.line(ep_m, \n",
    "             x=\"data\", y=\"value\", \n",
    "             color=\"variable\",\n",
    "            # error_y=\"Erro\",\n",
    "            color_discrete_sequence=[\"blue\", \"black\"])\n",
    "    \n",
    "    fig.update_yaxes(title=None)\n",
    "    fig.update_xaxes(title=None)\n",
    " \n",
    "\n",
    "    #min=np.min(ep_m['value']-ep_m['Erro'])*0.99\n",
    "   # max=np.max(ep_m['value']+ep_m['Erro'])*1.01\n",
    "    #fig.update_yaxes(range=[min,max])\n",
    "    \n",
    "    fig.update_layout(\n",
    "    legend=dict(\n",
    "        x=0,\n",
    "        y=1,\n",
    "        traceorder=\"reversed\",\n",
    "        title_font_family=\"Times New Roman\",\n",
    "        font=dict(\n",
    "            family=\"Courier\",\n",
    "            size=12,\n",
    "            color=\"black\"\n",
    "        ),\n",
    "        bgcolor=\"LightSteelBlue\",\n",
    "        bordercolor=\"Black\",\n",
    "        borderwidth=2\n",
    "    ))\n",
    "    fig.update_layout(title={'text':'reg: ' +index,'x':0.5,'xanchor': 'center'})\n",
    "    fig.show()"
   ]
  },
  {
   "cell_type": "code",
   "execution_count": 31,
   "metadata": {
    "execution": {
     "iopub.execute_input": "2021-06-28T13:59:34.515753Z",
     "iopub.status.busy": "2021-06-28T13:59:34.515016Z",
     "iopub.status.idle": "2021-06-28T13:59:34.543753Z",
     "shell.execute_reply": "2021-06-28T13:59:34.543753Z",
     "shell.execute_reply.started": "2021-06-28T13:59:34.515753Z"
    },
    "tags": []
   },
   "outputs": [],
   "source": [
    "def table_index(index):\n",
    "    \n",
    "    indices=list(erro_adjested_tidy.index.levels[0])\n",
    "    index_number=indices.index(index)\n",
    "\n",
    "    reg=erro_merged[index_number][0].iloc[0,0]\n",
    "\n",
    "    r_boxplot=previsao.loc[indices[index_number],:,reg,:]\n",
    "    r_boxplot=add_data(r_boxplot)\n",
    "    r_boxplot=r_boxplot.reset_index()\n",
    "    r_boxplot=r_boxplot.iloc[:,:-3]\n",
    "    \n",
    "    r_boxplot['Erro(%)']=100*r_boxplot['Erro']/r_boxplot['Previsão']\n",
    "    r_boxplot=r_boxplot.iloc[:,4:].groupby(['Ano','Mês']).mean().round(2)\n",
    "    \n",
    "    display(r_boxplot)\n",
    "   #return(r_boxplot)\n"
   ]
  },
  {
   "cell_type": "code",
   "execution_count": 32,
   "metadata": {
    "execution": {
     "iopub.execute_input": "2021-06-28T13:59:34.545755Z",
     "iopub.status.busy": "2021-06-28T13:59:34.544754Z",
     "iopub.status.idle": "2021-06-28T13:59:34.560766Z",
     "shell.execute_reply": "2021-06-28T13:59:34.559753Z",
     "shell.execute_reply.started": "2021-06-28T13:59:34.545755Z"
    },
    "tags": []
   },
   "outputs": [],
   "source": [
    "def plot_prev_box(index):\n",
    "    \n",
    "    indices=list(erro_adjested_tidy.index.levels[0])\n",
    "    index_number=indices.index(index)\n",
    "    \n",
    "    reg=erro_merged[index_number][0].iloc[0,0]\n",
    "    \n",
    "    r_boxplot=previsao.loc[index,:,reg,:]\n",
    "    r_boxplot=add_data(r_boxplot)\n",
    "    \n",
    "    r_boxplot\n",
    "    \n",
    "    fig = px.box(r_boxplot, \n",
    "                 x = \"data\",\n",
    "                 y=\"Previsão\",\n",
    "                 points=False,\n",
    "                  title=\"Box plot da previsão\"\n",
    "                )\n",
    "    \n",
    "    fig.update_xaxes(\n",
    "    dtick=\"M1\",\n",
    "    tickformat=\"%b\\n%Y\",\n",
    "    ticklabelmode=\"period\")\n",
    "    \n",
    "    fig.show()\n",
    "    "
   ]
  },
  {
   "cell_type": "code",
   "execution_count": 33,
   "metadata": {
    "execution": {
     "iopub.execute_input": "2021-06-28T13:59:34.563998Z",
     "iopub.status.busy": "2021-06-28T13:59:34.562754Z",
     "iopub.status.idle": "2021-06-28T13:59:34.577883Z",
     "shell.execute_reply": "2021-06-28T13:59:34.575755Z",
     "shell.execute_reply.started": "2021-06-28T13:59:34.563998Z"
    },
    "tags": []
   },
   "outputs": [],
   "source": [
    "def plot_erro_box(index):\n",
    "\n",
    "    \n",
    "    indices=list(erro_adjested_tidy.index.levels[0])\n",
    "    index_number=indices.index(index)\n",
    "    \n",
    "    reg=erro_merged[index_number][0].iloc[0,0]\n",
    "    \n",
    "    r_boxplot=previsao.loc[index,:,reg,:]\n",
    "    r_boxplot=add_data(r_boxplot)\n",
    "    \n",
    "    r_boxplot\n",
    "    \n",
    "    fig = px.box(r_boxplot, \n",
    "                 x = \"data\",\n",
    "                 y=\"Erro\",\n",
    "                 points=False,\n",
    "                  title=\"Box plot do erro\"\n",
    "                )\n",
    "    \n",
    "    fig.update_xaxes(\n",
    "    dtick=\"M1\",\n",
    "    tickformat=\"%b\\n%Y\",\n",
    "    ticklabelmode=\"period\")\n",
    "    \n",
    "    fig.show()"
   ]
  },
  {
   "cell_type": "code",
   "execution_count": 34,
   "metadata": {
    "execution": {
     "iopub.execute_input": "2021-06-28T13:59:34.578754Z",
     "iopub.status.busy": "2021-06-28T13:59:34.578754Z",
     "iopub.status.idle": "2021-06-28T13:59:34.591755Z",
     "shell.execute_reply": "2021-06-28T13:59:34.590754Z",
     "shell.execute_reply.started": "2021-06-28T13:59:34.578754Z"
    },
    "tags": []
   },
   "outputs": [],
   "source": [
    "#time series"
   ]
  },
  {
   "cell_type": "code",
   "execution_count": 35,
   "metadata": {
    "execution": {
     "iopub.execute_input": "2021-06-28T13:59:34.593759Z",
     "iopub.status.busy": "2021-06-28T13:59:34.593759Z",
     "iopub.status.idle": "2021-06-28T13:59:35.049990Z",
     "shell.execute_reply": "2021-06-28T13:59:35.047986Z",
     "shell.execute_reply.started": "2021-06-28T13:59:34.593759Z"
    },
    "tags": []
   },
   "outputs": [],
   "source": [
    "#df_ts=pd.read_csv('df_TIME_SERIES.csv')\n",
    "url='https://raw.githubusercontent.com/LeonardoGiovanelli/TCC_LCA/main/df_TIME_SERIES.csv'\n",
    "df_ts= pd.read_csv(url).iloc[:,1:]\n",
    "df_ts=df_ts.set_index('indice')"
   ]
  },
  {
   "cell_type": "code",
   "execution_count": 36,
   "metadata": {
    "execution": {
     "iopub.execute_input": "2021-06-28T13:59:35.052986Z",
     "iopub.status.busy": "2021-06-28T13:59:35.051991Z",
     "iopub.status.idle": "2021-06-28T13:59:35.078978Z",
     "shell.execute_reply": "2021-06-28T13:59:35.078978Z",
     "shell.execute_reply.started": "2021-06-28T13:59:35.052986Z"
    },
    "tags": []
   },
   "outputs": [],
   "source": [
    "def plot_time_series(index):\n",
    "\n",
    "    colors=[\"black\",\"blue\"]\n",
    "    if index=='IE_E' or index=='ISA_E':\n",
    "        index=index.replace(\"_\",\"-\")\n",
    "    r=df_ts.loc[index]\n",
    "\n",
    "    fig = go.Figure() \n",
    "\n",
    "    fig.add_trace(go.Scatter(\n",
    "    line=dict(color=colors[1]),\n",
    "    x=r['data'],\n",
    "    y=r['Real'],\n",
    "    name=\"Real\"))\n",
    "        \n",
    "    fig.add_trace(go.Scatter(\n",
    "    line=dict(color=colors[0]),\n",
    "    x=r['data'],\n",
    "    y=r['Previsto'],\n",
    "    name='Previsão'\n",
    "    ))\n",
    "\n",
    "    fig.update_layout(\n",
    "    legend=dict(\n",
    "        x=0,\n",
    "        y=1,\n",
    "        traceorder=\"reversed\",\n",
    "        title_font_family=\"Times New Roman\",\n",
    "        font=dict(\n",
    "            family=\"Courier\",\n",
    "            size=12,\n",
    "            color=\"black\"\n",
    "        ),\n",
    "        bgcolor=\"LightSteelBlue\",\n",
    "        bordercolor=\"Black\",\n",
    "        borderwidth=2\n",
    "    ))\n",
    "    #fig.update_xaxes(dtick=\"M1\",    tickformat=\"%b\\n%Y\")\n",
    "    fig.update_layout(title={'text':'ts: ' +index,'x':0.5,'xanchor': 'center'})\n",
    "    fig.show()"
   ]
  },
  {
   "cell_type": "code",
   "execution_count": 37,
   "metadata": {
    "execution": {
     "iopub.execute_input": "2021-06-28T13:59:35.080979Z",
     "iopub.status.busy": "2021-06-28T13:59:35.079979Z",
     "iopub.status.idle": "2021-06-28T13:59:35.095981Z",
     "shell.execute_reply": "2021-06-28T13:59:35.094980Z",
     "shell.execute_reply.started": "2021-06-28T13:59:35.079979Z"
    },
    "tags": []
   },
   "outputs": [],
   "source": [
    "def eqm_per(x):\n",
    "    x=x.reset_index()\n",
    "    x=x.dropna()\n",
    "    r=x['Real']\n",
    "    p=x['Previsto']\n",
    "    eqm=(np.sum([((r-p)/r)**2 for r,p in zip(r,p) if r != 0 ])/len([x for x in r if x != 0]))**.5\n",
    "    return(round(eqm*100,2))"
   ]
  },
  {
   "cell_type": "code",
   "execution_count": 38,
   "metadata": {
    "execution": {
     "iopub.execute_input": "2021-06-28T13:59:35.097982Z",
     "iopub.status.busy": "2021-06-28T13:59:35.097982Z",
     "iopub.status.idle": "2021-06-28T13:59:35.110980Z",
     "shell.execute_reply": "2021-06-28T13:59:35.110980Z",
     "shell.execute_reply.started": "2021-06-28T13:59:35.097982Z"
    },
    "tags": []
   },
   "outputs": [],
   "source": [
    "def r_2(x):\n",
    "    x=x.reset_index()\n",
    "    x=x.dropna()\n",
    "    r=x['Real']\n",
    "    p=x['Previsto']\n",
    "    rr=r2_score(r, p)\n",
    "    return(rr)"
   ]
  },
  {
   "cell_type": "code",
   "execution_count": 39,
   "metadata": {
    "execution": {
     "iopub.execute_input": "2021-06-28T13:59:35.112980Z",
     "iopub.status.busy": "2021-06-28T13:59:35.111980Z",
     "iopub.status.idle": "2021-06-28T13:59:35.173980Z",
     "shell.execute_reply": "2021-06-28T13:59:35.173980Z",
     "shell.execute_reply.started": "2021-06-28T13:59:35.112980Z"
    },
    "tags": []
   },
   "outputs": [],
   "source": [
    "final_mm=df_ts.groupby('indice') \\\n",
    "  .apply(lambda x: pd.Series({\n",
    "    'EQM(%)' :eqm_per(x),\n",
    "    'r2' :r_2(x)\n",
    "  })\n",
    ")\n",
    "final_mm.index=[x.replace('_','-') for x in final_mm.index]\n",
    "erro_comp.index=[x.replace('_','-') for x in erro_comp.index]\n",
    "\n",
    "final_concat=pd.concat([erro_comp.iloc[:,[0,2]],final_mm],axis=1)\n",
    "final_concat.columns=['reg : EQM(%)','reg : r2','ts : EQM(%)','ts : r2']\n",
    "\n",
    "final_concat['dif(%)']=100*((final_concat['ts : EQM(%)']-final_concat['reg : EQM(%)'])/final_concat['reg : EQM(%)'])\n",
    "final_concat['dif(%) ']=100*((final_concat['ts : r2']-final_concat['reg : r2'])/abs(final_concat['reg : r2']))\n",
    "\n",
    "final_concat=final_concat[['reg : EQM(%)','ts : EQM(%)','dif(%)','reg : r2','ts : r2','dif(%) ']]"
   ]
  },
  {
   "cell_type": "code",
   "execution_count": 40,
   "metadata": {
    "execution": {
     "iopub.execute_input": "2021-06-28T13:59:35.174978Z",
     "iopub.status.busy": "2021-06-28T13:59:35.174978Z",
     "iopub.status.idle": "2021-06-28T13:59:35.188978Z",
     "shell.execute_reply": "2021-06-28T13:59:35.188978Z",
     "shell.execute_reply.started": "2021-06-28T13:59:35.174978Z"
    },
    "tags": []
   },
   "outputs": [],
   "source": [
    "####ipywidgets"
   ]
  },
  {
   "cell_type": "code",
   "execution_count": 41,
   "metadata": {
    "execution": {
     "iopub.execute_input": "2021-06-28T13:59:35.189982Z",
     "iopub.status.busy": "2021-06-28T13:59:35.189982Z",
     "iopub.status.idle": "2021-06-28T13:59:35.220980Z",
     "shell.execute_reply": "2021-06-28T13:59:35.220980Z",
     "shell.execute_reply.started": "2021-06-28T13:59:35.189982Z"
    },
    "tags": []
   },
   "outputs": [],
   "source": [
    "indices=ipywidgets.Dropdown(options=indices,  value=indices[0],  \n",
    "                            description='Índice: ',\n",
    "                           layout={'width': 'max-content'})\n",
    "\n",
    "nd=ipywidgets.Dropdown(options=[0,1],  value=0, \n",
    "                       description='nd:',\n",
    "                      layout={'width': 'max-content'})\n",
    "\n",
    "regressao=ipywidgets.Dropdown(options=regressao,  value=regressao[0],  \n",
    "                              description='Regressão:',\n",
    "                             layout={'width': 'max-content'})\n",
    "\n",
    "tsw=ipywidgets.Dropdown(options=[0,1],  value=0,  \n",
    "                        description='tsw:',\n",
    "                       layout={'width': 'max-content'})\n",
    "\n",
    "\n",
    "info=ipywidgets.HBox([indices,nd,regressao,tsw])"
   ]
  },
  {
   "cell_type": "code",
   "execution_count": 42,
   "metadata": {
    "execution": {
     "iopub.execute_input": "2021-06-28T13:59:35.221982Z",
     "iopub.status.busy": "2021-06-28T13:59:35.221982Z",
     "iopub.status.idle": "2021-06-28T13:59:35.236979Z",
     "shell.execute_reply": "2021-06-28T13:59:35.236979Z",
     "shell.execute_reply.started": "2021-06-28T13:59:35.221982Z"
    },
    "tags": []
   },
   "outputs": [],
   "source": [
    "#init_datatables_mode()\n",
    "#df = pd.DataFrame(np.abs(np.random.randn(50, 5)), columns=list(string.ascii_uppercase[:5]))"
   ]
  },
  {
   "cell_type": "code",
   "execution_count": 48,
   "metadata": {
    "execution": {
     "iopub.execute_input": "2021-06-28T14:03:38.300380Z",
     "iopub.status.busy": "2021-06-28T14:03:38.300380Z",
     "iopub.status.idle": "2021-06-28T14:03:38.594268Z",
     "shell.execute_reply": "2021-06-28T14:03:38.594268Z",
     "shell.execute_reply.started": "2021-06-28T14:03:38.300380Z"
    },
    "require": [
     "base/js/events",
     "datatables.net",
     "d3",
     "chartjs",
     "dt-config",
     "dt-components",
     "dt-graph-objects",
     "dt-toolbar",
     "dt-tooltips",
     "jupyter-datatables"
    ],
    "tags": []
   },
   "outputs": [
    {
     "data": {
      "application/vnd.jupyter.widget-view+json": {
       "model_id": "ddee5b2abbf2429d887f4e67d923128a",
       "version_major": 2,
       "version_minor": 0
      },
      "text/plain": [
       "HTML(value='\\n    <style>\\n       .jupyter-widgets-output-area .output_scroll {\\n            height: unset !im…"
      ]
     },
     "metadata": {},
     "output_type": "display_data"
    },
    {
     "data": {
      "application/vnd.jupyter.widget-view+json": {
       "model_id": "efee947ba8e04ac0845060b297600432",
       "version_major": 2,
       "version_minor": 0
      },
      "text/plain": [
       "Tab(children=(Output(), VBox(children=(Dropdown(description='Índice: ', layout=Layout(width='max-content'), op…"
      ]
     },
     "metadata": {},
     "output_type": "display_data"
    }
   ],
   "source": [
    "from IPython.display import display_html \n",
    "    \n",
    "out1 = ipywidgets.Output()\n",
    "out2 = ipywidgets.Output()\n",
    "out3= ipywidgets.Output()\n",
    "#out4=ipywidgets.Output()\n",
    "######## OUT1##################\n",
    "with out1:\n",
    "        #display(erro_comp)\n",
    "        #display(final_mm)\n",
    "        display(final_concat)\n",
    "\n",
    "###### OUT 2#####################    \n",
    "\n",
    "g2_2=ipywidgets.interactive_output(plot_prev_erro_bar,  \n",
    "    {'index':indices})\n",
    "\n",
    "g2_3=ipywidgets.interactive_output(plot_time_series,  \n",
    "    {'index':indices})\n",
    "\n",
    "#out2=ipywidgets.VBox([indices,\n",
    "        #              ipywidgets.HBox([g2_2,g2_3])\n",
    "                    # ])\n",
    "\n",
    "out2=ipywidgets.VBox([indices,g2_2,g2_3])\n",
    "    \n",
    "####   OUT3   #####################    \n",
    "#g3_1=ipywidgets.interactive_output(plot_prev,  \n",
    "  #  {'index':indices})\n",
    "\n",
    "g3_11=ipywidgets.interactive_output(table_index,  \n",
    "    {'index':indices})\n",
    "\n",
    "\n",
    "g3_2=ipywidgets.interactive_output(plot_prev_box,  \n",
    "    {'index':indices})\n",
    "\n",
    "\n",
    "\n",
    "g3_3=ipywidgets.interactive_output(plot_erro_box,  \n",
    "    {'index':indices})\n",
    "\n",
    "#out3=ipywidgets.VBox([\n",
    " #   ipywidgets.HBox([indices,g3_11]),\n",
    " #   ipywidgets.HBox([g3_2,g3_3]),\n",
    "   # ])    \n",
    "\n",
    "out3=ipywidgets.VBox([indices,g3_11,g3_2,g3_3])\n",
    "\n",
    "\n",
    "##############################    \n",
    "\n",
    "tab = ipywidgets.Tab(children = [out1, out2,out3])\n",
    "tab.set_title(0, 'Indíces')\n",
    "tab.set_title(1, 'Previsto X Real')\n",
    "tab.set_title(2, 'Previsão detalhada')\n",
    "#tab.set_title(3, 'Time Series')\n",
    "\n",
    "\n",
    "display(tab)"
   ]
  },
  {
   "cell_type": "code",
   "execution_count": null,
   "metadata": {
    "execution": {
     "iopub.status.busy": "2021-06-28T13:59:36.107984Z",
     "iopub.status.idle": "2021-06-28T13:59:36.107984Z",
     "shell.execute_reply": "2021-06-28T13:59:36.107984Z"
    },
    "tags": []
   },
   "outputs": [],
   "source": [
    "index='EPU'\n",
    "\n",
    "nas = df_ts.loc[index].isnull()\n",
    "\n",
    "nas = nas.any(axis=1)\n",
    "dt_ts_nas = df_ts.loc[index][nas]\n",
    "\n",
    "x=prever(index)\n",
    "#x=x[x.variable=='Previsão']['value'].iloc[-nas.sum():]\n",
    "\n",
    "#x=pd.concat([x.reset_index(),dt_ts_nas.reset_index()],axis=1).reset_index()[['data','value','Previsto']]"
   ]
  }
 ],
 "metadata": {
  "kernelspec": {
   "display_name": "Python 3",
   "language": "python",
   "name": "python3"
  },
  "language_info": {
   "codemirror_mode": {
    "name": "ipython",
    "version": 3
   },
   "file_extension": ".py",
   "mimetype": "text/x-python",
   "name": "python",
   "nbconvert_exporter": "python",
   "pygments_lexer": "ipython3",
   "version": "3.8.8"
  },
  "nbTranslate": {
   "displayLangs": [
    "*"
   ],
   "hotkey": "alt-t",
   "langInMainMenu": true,
   "sourceLang": "en",
   "targetLang": "fr",
   "useGoogleTranslate": true
  },
  "require": {
   "paths": {
    "buttons.colvis": "https://cdn.datatables.net/buttons/1.5.6/js/buttons.colVis.min",
    "buttons.flash": "https://cdn.datatables.net/buttons/1.5.6/js/buttons.flash.min",
    "buttons.html5": "https://cdn.datatables.net/buttons/1.5.6/js/buttons.html5.min",
    "buttons.print": "https://cdn.datatables.net/buttons/1.5.6/js/buttons.print.min",
    "chartjs": "https://cdnjs.cloudflare.com/ajax/libs/Chart.js/2.8.0/Chart",
    "d3": "https://d3js.org/d3.v5.min",
    "d3-array": "https://d3js.org/d3-array.v2.min",
    "datatables.net": "https://cdn.datatables.net/1.10.18/js/jquery.dataTables",
    "datatables.net-buttons": "https://cdn.datatables.net/buttons/1.5.6/js/dataTables.buttons.min",
    "datatables.responsive": "https://cdn.datatables.net/responsive/2.2.2/js/dataTables.responsive.min",
    "datatables.scroller": "https://cdn.datatables.net/scroller/2.0.0/js/dataTables.scroller.min",
    "datatables.select": "https://cdn.datatables.net/select/1.3.0/js/dataTables.select.min",
    "jszip": "https://cdnjs.cloudflare.com/ajax/libs/jszip/2.5.0/jszip.min",
    "moment": "https://cdnjs.cloudflare.com/ajax/libs/moment.js/2.8.0/moment",
    "pdfmake": "https://cdnjs.cloudflare.com/ajax/libs/pdfmake/0.1.36/pdfmake.min",
    "vfsfonts": "https://cdnjs.cloudflare.com/ajax/libs/pdfmake/0.1.36/vfs_fonts"
   },
   "shim": {
    "buttons.colvis": {
     "deps": [
      "jszip",
      "datatables.net-buttons"
     ]
    },
    "buttons.flash": {
     "deps": [
      "jszip",
      "datatables.net-buttons"
     ]
    },
    "buttons.html5": {
     "deps": [
      "jszip",
      "datatables.net-buttons"
     ]
    },
    "buttons.print": {
     "deps": [
      "jszip",
      "datatables.net-buttons"
     ]
    },
    "chartjs": {
     "deps": [
      "moment"
     ]
    },
    "datatables.net": {
     "exports": "$.fn.dataTable"
    },
    "datatables.net-buttons": {
     "deps": [
      "datatables.net"
     ]
    },
    "pdfmake": {
     "deps": [
      "datatables.net"
     ]
    },
    "vfsfonts": {
     "deps": [
      "datatables.net"
     ]
    }
   }
  },
  "toc-autonumbering": true
 },
 "nbformat": 4,
 "nbformat_minor": 4
}
