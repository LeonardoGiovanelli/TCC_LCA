{
 "cells": [
  {
   "cell_type": "code",
   "execution_count": 1,
   "metadata": {
    "execution": {
     "iopub.execute_input": "2021-06-20T13:53:03.566739Z",
     "iopub.status.busy": "2021-06-20T13:53:03.566739Z",
     "iopub.status.idle": "2021-06-20T13:53:03.586739Z",
     "shell.execute_reply": "2021-06-20T13:53:03.582739Z",
     "shell.execute_reply.started": "2021-06-20T13:53:03.566739Z"
    },
    "tags": []
   },
   "outputs": [],
   "source": [
    "#  cd OneDrive\\INSPER\\PADS\\TCC\\FINAL\\TABELA_ERRO_PREVISÃO\\"
   ]
  },
  {
   "cell_type": "code",
   "execution_count": 2,
   "metadata": {
    "execution": {
     "iopub.execute_input": "2021-06-20T13:53:03.588741Z",
     "iopub.status.busy": "2021-06-20T13:53:03.588741Z",
     "iopub.status.idle": "2021-06-20T13:53:03.598738Z",
     "shell.execute_reply": "2021-06-20T13:53:03.598738Z",
     "shell.execute_reply.started": "2021-06-20T13:53:03.588741Z"
    },
    "tags": []
   },
   "outputs": [],
   "source": [
    "import warnings\n",
    "warnings.simplefilter(action='ignore', category=FutureWarning)\n",
    "warnings.filterwarnings('ignore')"
   ]
  },
  {
   "cell_type": "code",
   "execution_count": 3,
   "metadata": {
    "execution": {
     "iopub.execute_input": "2021-06-20T13:53:03.600886Z",
     "iopub.status.busy": "2021-06-20T13:53:03.600886Z",
     "iopub.status.idle": "2021-06-20T13:53:03.744758Z",
     "shell.execute_reply": "2021-06-20T13:53:03.742760Z",
     "shell.execute_reply.started": "2021-06-20T13:53:03.600886Z"
    },
    "tags": []
   },
   "outputs": [],
   "source": [
    "import numpy as np\n",
    "import math"
   ]
  },
  {
   "cell_type": "code",
   "execution_count": 4,
   "metadata": {
    "execution": {
     "iopub.execute_input": "2021-06-20T13:53:03.750761Z",
     "iopub.status.busy": "2021-06-20T13:53:03.750761Z",
     "iopub.status.idle": "2021-06-20T13:53:03.774749Z",
     "shell.execute_reply": "2021-06-20T13:53:03.774749Z",
     "shell.execute_reply.started": "2021-06-20T13:53:03.750761Z"
    },
    "tags": []
   },
   "outputs": [],
   "source": [
    "import itertools\n",
    "\n",
    "from functools import reduce"
   ]
  },
  {
   "cell_type": "code",
   "execution_count": 5,
   "metadata": {
    "execution": {
     "iopub.execute_input": "2021-06-20T13:53:03.777751Z",
     "iopub.status.busy": "2021-06-20T13:53:03.776750Z",
     "iopub.status.idle": "2021-06-20T13:53:04.139086Z",
     "shell.execute_reply": "2021-06-20T13:53:04.139086Z",
     "shell.execute_reply.started": "2021-06-20T13:53:03.777751Z"
    },
    "tags": []
   },
   "outputs": [],
   "source": [
    "import pandas as pd\n",
    "pd.set_option('display.max_columns', None)\n",
    "pd.options.display.float_format = '{:.2f}'.format"
   ]
  },
  {
   "cell_type": "code",
   "execution_count": 6,
   "metadata": {
    "execution": {
     "iopub.execute_input": "2021-06-20T13:53:04.141089Z",
     "iopub.status.busy": "2021-06-20T13:53:04.140644Z",
     "iopub.status.idle": "2021-06-20T13:53:04.219087Z",
     "shell.execute_reply": "2021-06-20T13:53:04.217110Z",
     "shell.execute_reply.started": "2021-06-20T13:53:04.141089Z"
    }
   },
   "outputs": [],
   "source": [
    "#import matplotlib.pyplot as plt\n",
    "import ipywidgets\n",
    "from ipywidgets import interactive,interactive_output\n",
    "from ipywidgets import Layout, Button, Label\n",
    "from ipywidgets import GridspecLayout,HBox, VBox, Box"
   ]
  },
  {
   "cell_type": "code",
   "execution_count": 7,
   "metadata": {
    "execution": {
     "iopub.execute_input": "2021-06-20T13:53:04.220087Z",
     "iopub.status.busy": "2021-06-20T13:53:04.220087Z",
     "iopub.status.idle": "2021-06-20T13:53:04.360094Z",
     "shell.execute_reply": "2021-06-20T13:53:04.359086Z",
     "shell.execute_reply.started": "2021-06-20T13:53:04.220087Z"
    },
    "tags": []
   },
   "outputs": [],
   "source": [
    "import plotly.graph_objects as go\n",
    "import plotly.express as px\n",
    "\n",
    "from plotly.subplots import make_subplots"
   ]
  },
  {
   "cell_type": "code",
   "execution_count": 8,
   "metadata": {
    "execution": {
     "iopub.execute_input": "2021-06-20T13:53:04.362086Z",
     "iopub.status.busy": "2021-06-20T13:53:04.361111Z",
     "iopub.status.idle": "2021-06-20T13:53:04.377102Z",
     "shell.execute_reply": "2021-06-20T13:53:04.375088Z",
     "shell.execute_reply.started": "2021-06-20T13:53:04.362086Z"
    },
    "tags": []
   },
   "outputs": [],
   "source": [
    "regressao=['knn','gb','mlr','rf']\n",
    "regressao_mlr=['knn','gb','rf']\n",
    "regressao=['knn','gb','rf']"
   ]
  },
  {
   "cell_type": "code",
   "execution_count": 9,
   "metadata": {
    "execution": {
     "iopub.execute_input": "2021-06-20T13:53:04.381085Z",
     "iopub.status.busy": "2021-06-20T13:53:04.381085Z",
     "iopub.status.idle": "2021-06-20T13:53:04.723085Z",
     "shell.execute_reply": "2021-06-20T13:53:04.723085Z",
     "shell.execute_reply.started": "2021-06-20T13:53:04.381085Z"
    },
    "tags": []
   },
   "outputs": [],
   "source": [
    "url='https://raw.githubusercontent.com/LeonardoGiovanelli/TCC_LCA/main/erro2/df_erro_EQM_indici_data_regressao_tsw_5.csv'\n",
    "erro_adjested_tidy=pd.read_csv(url)\n",
    "erro_adjested_tidy=erro_adjested_tidy.set_index(['Indice','Nd','Regressao','tsw'])\n",
    "erro_adjested_tidy=erro_adjested_tidy.round(2)\n",
    "erro_adjested_tidy.rename(columns={'Mes':\"Mês\"},inplace=True)"
   ]
  },
  {
   "cell_type": "code",
   "execution_count": 10,
   "metadata": {
    "execution": {
     "iopub.execute_input": "2021-06-20T13:53:04.724089Z",
     "iopub.status.busy": "2021-06-20T13:53:04.724089Z",
     "iopub.status.idle": "2021-06-20T13:53:04.739088Z",
     "shell.execute_reply": "2021-06-20T13:53:04.739088Z",
     "shell.execute_reply.started": "2021-06-20T13:53:04.724089Z"
    },
    "tags": []
   },
   "outputs": [],
   "source": [
    "indices=list(erro_adjested_tidy.index.levels[0])"
   ]
  },
  {
   "cell_type": "code",
   "execution_count": 11,
   "metadata": {
    "execution": {
     "iopub.execute_input": "2021-06-20T13:53:04.742089Z",
     "iopub.status.busy": "2021-06-20T13:53:04.742089Z",
     "iopub.status.idle": "2021-06-20T13:53:04.914086Z",
     "shell.execute_reply": "2021-06-20T13:53:04.914086Z",
     "shell.execute_reply.started": "2021-06-20T13:53:04.742089Z"
    },
    "tags": []
   },
   "outputs": [],
   "source": [
    "url='https://raw.githubusercontent.com/LeonardoGiovanelli/TCC_LCA/main/previsao2/df_PREVISAO_indici_data_regressao_tsw.csv'\n",
    "previsao=pd.read_csv(url).iloc[:,1:]\n",
    "previsao=previsao.round(2)\n",
    "previsao=previsao.set_index(['Indice','Nd','Regressao','tsw'])\n",
    "previsao=previsao.rename(columns={\"Eroo\": \"Erro\"})\n",
    "#previsao.head()"
   ]
  },
  {
   "cell_type": "code",
   "execution_count": 12,
   "metadata": {
    "execution": {
     "iopub.execute_input": "2021-06-20T13:53:04.916087Z",
     "iopub.status.busy": "2021-06-20T13:53:04.915090Z",
     "iopub.status.idle": "2021-06-20T13:53:04.930086Z",
     "shell.execute_reply": "2021-06-20T13:53:04.929095Z",
     "shell.execute_reply.started": "2021-06-20T13:53:04.916087Z"
    },
    "tags": []
   },
   "outputs": [],
   "source": [
    "def df_color(df,cmap,low,high): \n",
    "    dff=df.style.background_gradient(cmap=cmap, low=low, high=high)\n",
    "    return(dff)"
   ]
  },
  {
   "cell_type": "code",
   "execution_count": 13,
   "metadata": {
    "execution": {
     "iopub.execute_input": "2021-06-20T13:53:04.931087Z",
     "iopub.status.busy": "2021-06-20T13:53:04.931087Z",
     "iopub.status.idle": "2021-06-20T13:53:04.945085Z",
     "shell.execute_reply": "2021-06-20T13:53:04.945085Z",
     "shell.execute_reply.started": "2021-06-20T13:53:04.931087Z"
    },
    "tags": []
   },
   "outputs": [],
   "source": [
    "from itertools import compress, product\n",
    "\n",
    "def combinations(items):\n",
    "    return ( set(compress(items,mask)) for mask in product(*[[0,1]]*len(items)) )"
   ]
  },
  {
   "cell_type": "code",
   "execution_count": 14,
   "metadata": {
    "execution": {
     "iopub.execute_input": "2021-06-20T13:53:04.946090Z",
     "iopub.status.busy": "2021-06-20T13:53:04.946090Z",
     "iopub.status.idle": "2021-06-20T13:53:04.961086Z",
     "shell.execute_reply": "2021-06-20T13:53:04.961086Z",
     "shell.execute_reply.started": "2021-06-20T13:53:04.946090Z"
    },
    "tags": []
   },
   "outputs": [],
   "source": [
    "def w_avg(df, values, weights):\n",
    "    d = df[values]\n",
    "    w = df[weights]\n",
    "    return (d * w).sum() / (w.sum())"
   ]
  },
  {
   "cell_type": "code",
   "execution_count": 15,
   "metadata": {
    "execution": {
     "iopub.execute_input": "2021-06-20T13:53:04.962090Z",
     "iopub.status.busy": "2021-06-20T13:53:04.962090Z",
     "iopub.status.idle": "2021-06-20T13:53:04.977088Z",
     "shell.execute_reply": "2021-06-20T13:53:04.977088Z",
     "shell.execute_reply.started": "2021-06-20T13:53:04.962090Z"
    },
    "tags": []
   },
   "outputs": [],
   "source": [
    "def add_data(r):\n",
    "    r['Dia']=\"1\"\n",
    "    r[\"Ano\"]=r[\"Ano\"].apply(lambda x: math.trunc(x))\n",
    "    r[\"Mês\"]=r[\"Mês\"].apply(lambda x: math.trunc(x))\n",
    "    r['data']=pd.to_datetime(r[\"Ano\"].astype(str) + \"/\" + r[\"Mês\"].astype(str) + \"/\" + r[\"Dia\"])\n",
    "    return(r)"
   ]
  },
  {
   "cell_type": "code",
   "execution_count": 16,
   "metadata": {
    "execution": {
     "iopub.execute_input": "2021-06-20T13:53:04.978089Z",
     "iopub.status.busy": "2021-06-20T13:53:04.978089Z",
     "iopub.status.idle": "2021-06-20T13:53:04.993088Z",
     "shell.execute_reply": "2021-06-20T13:53:04.993088Z",
     "shell.execute_reply.started": "2021-06-20T13:53:04.978089Z"
    },
    "tags": []
   },
   "outputs": [],
   "source": [
    "# #########ERRO"
   ]
  },
  {
   "cell_type": "code",
   "execution_count": 17,
   "metadata": {
    "execution": {
     "iopub.execute_input": "2021-06-20T13:53:04.994086Z",
     "iopub.status.busy": "2021-06-20T13:53:04.994086Z",
     "iopub.status.idle": "2021-06-20T13:53:05.813085Z",
     "shell.execute_reply": "2021-06-20T13:53:05.813085Z",
     "shell.execute_reply.started": "2021-06-20T13:53:04.994086Z"
    },
    "tags": []
   },
   "outputs": [],
   "source": [
    "from sklearn.metrics import r2_score\n",
    "import math\n",
    "\n",
    "def mean_erro(indice_nome,reg):\n",
    "\n",
    "    p=erro_adjested_tidy.loc[indice_nome,:,reg,:].groupby(['Ano','Mês']).\\\n",
    "    apply(lambda x: np.average(x.Previsto, weights=1/(x['Real-Previsto']+.0002)))\n",
    "    p=pd.DataFrame(p)\n",
    "    \n",
    "    erro=erro_adjested_tidy.loc[indice_nome,:,reg,:].groupby(['Ano','Mês']).\\\n",
    "    apply(lambda x: np.average(x.Erro, weights=1/(x['Real-Previsto']+.0002)))\n",
    "    erro=pd.DataFrame(erro).reset_index().iloc[:,-1]\n",
    "        \n",
    "    r=erro_adjested_tidy.loc[indice_nome,0,'knn',0]\n",
    "    r=r['Real']\n",
    "    r=r.reset_index()\n",
    "\n",
    "    p=pd.concat([p.reset_index(),r],axis=1,ignore_index=True)\n",
    "    p=p[[0,1,7,2]]\n",
    "\n",
    "    p.columns=['Ano','Mes','Real','Previsto']\n",
    "    \n",
    "    p['Erro']=erro\n",
    "    p['Real-Previsto']=p['Real']-p['Previsto']\n",
    "    p['Eqm(%)']=100*((p['Real-Previsto']/p['Real'])**2)**.5\n",
    "  \n",
    "    return(p)"
   ]
  },
  {
   "cell_type": "code",
   "execution_count": 18,
   "metadata": {
    "execution": {
     "iopub.execute_input": "2021-06-20T13:53:05.814088Z",
     "iopub.status.busy": "2021-06-20T13:53:05.814088Z",
     "iopub.status.idle": "2021-06-20T13:53:05.829087Z",
     "shell.execute_reply": "2021-06-20T13:53:05.829087Z",
     "shell.execute_reply.started": "2021-06-20T13:53:05.814088Z"
    },
    "tags": []
   },
   "outputs": [],
   "source": [
    "def mean_erro_index(indice_nome):\n",
    "    \n",
    "    regressao=['knn','gb','rf']\n",
    "    \n",
    "    reg_comb=list(combinations(regressao))[1:]\n",
    "    reg_comb=list(reg_comb)\n",
    "\n",
    "    t=[mean_erro(indice_nome,r) for r in reg_comb]\n",
    "\n",
    "    t_rp_mean=[np.mean(x['Real-Previsto']**2)**0.5 for x in t]\n",
    "    t_rp_std=[np.std((x['Real-Previsto'])) for x in t]\n",
    "\n",
    "    t_eqm_mean=[np.mean(x['Eqm(%)']**2)**.5 for x in t]\n",
    "    t_eqm_std=[np.std(abs(x['Eqm(%)'])) for x in t]\n",
    "\n",
    "    t_r2=[r2_score(x['Real'],x['Previsto']) for x in t]\n",
    "\n",
    "    t_pd=pd.DataFrame([reg_comb,t_rp_mean,t_rp_std,t_eqm_mean,t_eqm_std,t_r2]).transpose()\n",
    "    t_pd.columns=['reg','rp_mean','rp_std','eqm_mean(%)','eqm_std(%)','r2']\n",
    "\n",
    "    #var='eqm_mean(%)'\n",
    "    var='r2'\n",
    "    \n",
    "    if var=='eqm_mean(%)':\n",
    "        t_summary=t_pd.sort_values(by=[var],ascending=True)\n",
    "    if var=='r2':\n",
    "        t_summary=t_pd.sort_values(by=[var],ascending=False)\n",
    "    \n",
    "    best_index=t_summary.index[0]\n",
    "    t_best=t[best_index]\n",
    "    \n",
    "    return([t_summary,t_best.rename(columns={'Mes':'Mês'})])"
   ]
  },
  {
   "cell_type": "code",
   "execution_count": 19,
   "metadata": {
    "execution": {
     "iopub.execute_input": "2021-06-20T13:53:05.830089Z",
     "iopub.status.busy": "2021-06-20T13:53:05.830089Z",
     "iopub.status.idle": "2021-06-20T13:53:07.558093Z",
     "shell.execute_reply": "2021-06-20T13:53:07.557096Z",
     "shell.execute_reply.started": "2021-06-20T13:53:05.830089Z"
    },
    "tags": []
   },
   "outputs": [],
   "source": [
    "erro_merged=[mean_erro_index(i) for i in indices]"
   ]
  },
  {
   "cell_type": "code",
   "execution_count": 20,
   "metadata": {
    "execution": {
     "iopub.execute_input": "2021-06-20T13:53:07.561091Z",
     "iopub.status.busy": "2021-06-20T13:53:07.561091Z",
     "iopub.status.idle": "2021-06-20T13:53:07.590089Z",
     "shell.execute_reply": "2021-06-20T13:53:07.589087Z",
     "shell.execute_reply.started": "2021-06-20T13:53:07.561091Z"
    },
    "tags": []
   },
   "outputs": [],
   "source": [
    "erro_comp=pd.concat([x[0].iloc[0,-3:] for x in erro_merged],axis=1).reset_index()\n",
    "erro_comp.iloc[0:2,:]=erro_comp.iloc[0:2,:].round(0)\n",
    "erro_comp=erro_comp.set_index('index')\n",
    "erro_comp.columns=indices\n",
    "erro_comp.index.names = ['']\n",
    "erro_comp=erro_comp.transpose().sort_values('r2',ascending=False)"
   ]
  },
  {
   "cell_type": "code",
   "execution_count": 21,
   "metadata": {
    "execution": {
     "iopub.execute_input": "2021-06-20T13:53:07.591098Z",
     "iopub.status.busy": "2021-06-20T13:53:07.591098Z",
     "iopub.status.idle": "2021-06-20T13:53:07.621113Z",
     "shell.execute_reply": "2021-06-20T13:53:07.621113Z",
     "shell.execute_reply.started": "2021-06-20T13:53:07.591098Z"
    },
    "tags": []
   },
   "outputs": [],
   "source": [
    "teste=erro_adjested_tidy\n",
    "\n",
    "teste_0=teste[np.in1d(teste.index.get_level_values(1), [0])]\n",
    "teste_0=teste_0.groupby(['Indice','Regressao']).mean()\n",
    "teste_0f=teste_0.reset_index().pivot(index='Indice', columns='Regressao', values='Real-Previsto(%)').round(0)\n",
    "\n",
    "\n",
    "teste_1=teste[np.in1d(teste.index.get_level_values(1), [1])]\n",
    "teste_1=teste_1.groupby(['Indice','Regressao']).mean()\n",
    "teste_1f=teste_1.reset_index().pivot(index='Indice', columns='Regressao', values='Real-Previsto(%)').round(0)"
   ]
  },
  {
   "cell_type": "code",
   "execution_count": 22,
   "metadata": {
    "execution": {
     "iopub.execute_input": "2021-06-20T13:53:07.622089Z",
     "iopub.status.busy": "2021-06-20T13:53:07.622089Z",
     "iopub.status.idle": "2021-06-20T13:53:07.637090Z",
     "shell.execute_reply": "2021-06-20T13:53:07.637090Z",
     "shell.execute_reply.started": "2021-06-20T13:53:07.622089Z"
    },
    "tags": []
   },
   "outputs": [],
   "source": [
    "####### previsao"
   ]
  },
  {
   "cell_type": "code",
   "execution_count": 23,
   "metadata": {
    "execution": {
     "iopub.execute_input": "2021-06-20T13:53:07.639090Z",
     "iopub.status.busy": "2021-06-20T13:53:07.638087Z",
     "iopub.status.idle": "2021-06-20T13:53:07.653086Z",
     "shell.execute_reply": "2021-06-20T13:53:07.653086Z",
     "shell.execute_reply.started": "2021-06-20T13:53:07.639090Z"
    },
    "tags": []
   },
   "outputs": [],
   "source": [
    "def mean_previsao(indice_nome):\n",
    "    \n",
    "    indices=list(previsao.index.levels[0])\n",
    "    index_number=indices.index(indice_nome)\n",
    "    \n",
    "    reg=erro_merged[index_number][0].iloc[0,0]\n",
    "    #############\n",
    "    \n",
    "    p=previsao.loc[indice_nome,:,reg,:].groupby(['Ano','Mês']).\\\n",
    "    apply(lambda x: np.average(x.Previsão, weights=1/(x['EQM(%)']+.000002)))\n",
    "    p=pd.DataFrame(p)\n",
    "\n",
    "    erro=previsao.loc[indice_nome,:,reg,:].groupby(['Ano','Mês']).\\\n",
    "    apply(lambda x: np.average(x.Erro, weights=1/(x['EQM(%)']+.000002)))\n",
    "    erro=pd.DataFrame(erro)\n",
    "    \n",
    "    eqm=previsao.loc[indice_nome,:,reg,:].groupby(['Ano','Mês'])['EQM(%)'].mean()\n",
    "    df=pd.concat([p,erro,eqm],axis=1,ignore_index=True)\n",
    "\n",
    "    df.columns=['Previsão','Erro','EQM(%)']\n",
    "    return(add_data(df.reset_index()))"
   ]
  },
  {
   "cell_type": "code",
   "execution_count": 24,
   "metadata": {
    "execution": {
     "iopub.execute_input": "2021-06-20T13:53:07.654088Z",
     "iopub.status.busy": "2021-06-20T13:53:07.654088Z",
     "iopub.status.idle": "2021-06-20T13:53:07.761088Z",
     "shell.execute_reply": "2021-06-20T13:53:07.761088Z",
     "shell.execute_reply.started": "2021-06-20T13:53:07.654088Z"
    },
    "tags": []
   },
   "outputs": [],
   "source": [
    "previsao_merged=[mean_previsao(i) for i in indices]"
   ]
  },
  {
   "cell_type": "code",
   "execution_count": 25,
   "metadata": {
    "execution": {
     "iopub.execute_input": "2021-06-20T13:53:07.762086Z",
     "iopub.status.busy": "2021-06-20T13:53:07.762086Z",
     "iopub.status.idle": "2021-06-20T13:53:07.777088Z",
     "shell.execute_reply": "2021-06-20T13:53:07.777088Z",
     "shell.execute_reply.started": "2021-06-20T13:53:07.762086Z"
    },
    "tags": []
   },
   "outputs": [],
   "source": [
    "def plot_prev(index):\n",
    " \n",
    "    colors=[\"black\",\"blue\"]\n",
    "   \n",
    "    indices=list(erro_adjested_tidy.index.levels[0])\n",
    "    index_number=indices.index(index)\n",
    "    \n",
    "############# data   \n",
    "    r=previsao_merged[index_number].round(2)              \n",
    "\n",
    "    min=np.min(r['Previsão']-r['Erro'])\n",
    "    max=np.max(r['Previsão']+r['Erro'])\n",
    "########################################    \n"
   ]
  },
  {
   "cell_type": "code",
   "execution_count": 26,
   "metadata": {
    "execution": {
     "iopub.execute_input": "2021-06-20T13:53:07.778087Z",
     "iopub.status.busy": "2021-06-20T13:53:07.778087Z",
     "iopub.status.idle": "2021-06-20T13:53:07.793085Z",
     "shell.execute_reply": "2021-06-20T13:53:07.793085Z",
     "shell.execute_reply.started": "2021-06-20T13:53:07.778087Z"
    },
    "tags": []
   },
   "outputs": [],
   "source": [
    "def plot_erro(index):\n",
    " \n",
    " ############ get data \n",
    "    colors=[\"black\",\"blue\"]\n",
    "   \n",
    "    indices=list(erro_adjested_tidy.index.levels[0])\n",
    "    index_number=indices.index(index)\n",
    "    r=add_data(erro_merged[index_number][1]).round(2)              \n",
    "\n",
    "    min=np.min(np.min(r[['Real','Previsto']]))\n",
    "    max=np.max(np.max(r[['Real','Previsto']]))\n",
    "    \n",
    "########################################    \n",
    "    fig = go.Figure() \n",
    "    \n",
    "    fig.add_trace(go.Scatter(\n",
    "    line=dict(color=colors[0]),\n",
    "    x=r['data'],\n",
    "    y=r['Previsto'],\n",
    "     error_y=dict(\n",
    "   type='data',\n",
    "   symmetric=True,\n",
    "   array=r['Erro']),\n",
    "     name=\"Previsto\"))\n",
    "\n",
    "    fig.add_trace(go.Scatter(\n",
    "        line=dict(color=colors[1]),\n",
    "        x=r['data'],\n",
    "        y=r['Real'],\n",
    "       name=\"Real\"))\n",
    "\n",
    "    fig.update_xaxes(dtick=\"M1\",    tickformat=\"%b\\n%Y\")\n",
    "    fig.update_layout(title={'text':index,'x':0.5,'xanchor': 'center'})\n",
    "    fig.show()"
   ]
  },
  {
   "cell_type": "code",
   "execution_count": 27,
   "metadata": {
    "execution": {
     "iopub.execute_input": "2021-06-20T13:53:07.796087Z",
     "iopub.status.busy": "2021-06-20T13:53:07.795088Z",
     "iopub.status.idle": "2021-06-20T13:53:07.810088Z",
     "shell.execute_reply": "2021-06-20T13:53:07.809094Z",
     "shell.execute_reply.started": "2021-06-20T13:53:07.796087Z"
    }
   },
   "outputs": [],
   "source": [
    "def plot_prev_erro_bar(index):\n",
    "    \n",
    "    indices=list(erro_adjested_tidy.index.levels[0])\n",
    "    n=indices.index(index)\n",
    "################    \n",
    "    e=erro_merged[n][1]\n",
    "    #e=e[e.Ano>=2020]\n",
    "    e=add_data(e)\n",
    "    e=e.iloc[:,[-1,2,3,4]]\n",
    "    e=e.rename(columns={\"Previsto\":\"Previsão\"})\n",
    "##############\n",
    "    p=previsao_merged[n]\n",
    "    p=add_data(p)\n",
    "    p=p.iloc[:,[-1,2,3]]\n",
    "###############    \n",
    "    ep=pd.concat([e,p],axis=0).reset_index()\n",
    "###############    \n",
    "    ep_m=pd.melt(ep, id_vars=['data'], value_vars=['Real','Previsão']).dropna().reset_index()\n",
    "    \n",
    "\n",
    "    l=[[0]*len(ep_m[ep_m.variable==\"Real\"]),list(e['Erro'].append(p['Erro']).reset_index().iloc[:,1])]\n",
    "    l = list(itertools.chain(*l))\n",
    "    erro=l\n",
    "    ep_m['Erro']=erro\n",
    "    ep_m=ep_m.round(2)\n",
    "    \n",
    "###############################    \n",
    "    fig = px.bar(ep_m, \n",
    "             x=\"data\", y=\"value\", \n",
    "             color=\"variable\",\n",
    "             error_y=\"Erro\",\n",
    "            barmode='group',\n",
    "            color_discrete_sequence=[\"blue\", \"black\"])\n",
    "\n",
    "    min=np.min(ep_m['value']-ep_m['Erro'])*0.99\n",
    "    max=np.max(ep_m['value']+ep_m['Erro'])*1.01\n",
    "    fig.update_yaxes(range=[min,max])\n",
    "\n",
    "    fig.show()"
   ]
  },
  {
   "cell_type": "code",
   "execution_count": 28,
   "metadata": {
    "execution": {
     "iopub.execute_input": "2021-06-20T13:53:07.811090Z",
     "iopub.status.busy": "2021-06-20T13:53:07.811090Z",
     "iopub.status.idle": "2021-06-20T13:53:07.826088Z",
     "shell.execute_reply": "2021-06-20T13:53:07.825096Z",
     "shell.execute_reply.started": "2021-06-20T13:53:07.811090Z"
    },
    "tags": []
   },
   "outputs": [],
   "source": [
    "def table_index(index):\n",
    "    \n",
    "    indices=list(erro_adjested_tidy.index.levels[0])\n",
    "    index_number=indices.index(index)\n",
    "\n",
    "    reg=erro_merged[index_number][0].iloc[0,0]\n",
    "\n",
    "    r_boxplot=previsao.loc[indices[index_number],:,reg,:]\n",
    "    r_boxplot=add_data(r_boxplot)\n",
    "    r_boxplot=r_boxplot.reset_index()\n",
    "    r_boxplot=r_boxplot.iloc[:,:-3]\n",
    "    \n",
    "    r_boxplot['Erro(%)']=100*r_boxplot['Erro']/r_boxplot['Previsão']\n",
    "    r_boxplot=r_boxplot.iloc[:,4:].groupby(['Ano','Mês']).mean().round(2)\n",
    "    \n",
    "    display(r_boxplot)\n",
    "   #return(r_boxplot)\n"
   ]
  },
  {
   "cell_type": "code",
   "execution_count": 29,
   "metadata": {
    "execution": {
     "iopub.execute_input": "2021-06-20T13:53:07.827092Z",
     "iopub.status.busy": "2021-06-20T13:53:07.827092Z",
     "iopub.status.idle": "2021-06-20T13:53:07.858090Z",
     "shell.execute_reply": "2021-06-20T13:53:07.857089Z",
     "shell.execute_reply.started": "2021-06-20T13:53:07.827092Z"
    },
    "tags": []
   },
   "outputs": [],
   "source": [
    "def plot_prev_box(index):\n",
    "    \n",
    "    indices=list(erro_adjested_tidy.index.levels[0])\n",
    "    index_number=indices.index(index)\n",
    "    \n",
    "    reg=erro_merged[index_number][0].iloc[0,0]\n",
    "    \n",
    "    r_boxplot=previsao.loc[index,:,reg,:]\n",
    "    r_boxplot=add_data(r_boxplot)\n",
    "    \n",
    "    r_boxplot\n",
    "    \n",
    "    fig = px.box(r_boxplot, \n",
    "                 x = \"data\",\n",
    "                 y=\"Previsão\",\n",
    "                 points=False,\n",
    "                  title=\"Box plot da previsão\"\n",
    "                )\n",
    "    \n",
    "    fig.update_xaxes(\n",
    "    dtick=\"M1\",\n",
    "    tickformat=\"%b\\n%Y\",\n",
    "    ticklabelmode=\"period\")\n",
    "    \n",
    "    fig.show()\n",
    "    "
   ]
  },
  {
   "cell_type": "code",
   "execution_count": 30,
   "metadata": {
    "execution": {
     "iopub.execute_input": "2021-06-20T13:53:07.859112Z",
     "iopub.status.busy": "2021-06-20T13:53:07.859112Z",
     "iopub.status.idle": "2021-06-20T13:53:07.876100Z",
     "shell.execute_reply": "2021-06-20T13:53:07.873092Z",
     "shell.execute_reply.started": "2021-06-20T13:53:07.859112Z"
    },
    "tags": []
   },
   "outputs": [],
   "source": [
    "def plot_erro_box(index):\n",
    "    \n",
    "    indices=list(erro_adjested_tidy.index.levels[0])\n",
    "    index_number=indices.index(index)\n",
    "    \n",
    "    reg=erro_merged[index_number][0].iloc[0,0]\n",
    "    \n",
    "    r_boxplot=previsao.loc[index,:,reg,:]\n",
    "    r_boxplot=add_data(r_boxplot)\n",
    "    \n",
    "    r_boxplot\n",
    "    \n",
    "    fig = px.box(r_boxplot, \n",
    "                 x = \"data\",\n",
    "                 y=\"Erro\",\n",
    "                 points=False,\n",
    "                  title=\"Box plot do erro\"\n",
    "                )\n",
    "    \n",
    "    fig.update_xaxes(\n",
    "    dtick=\"M1\",\n",
    "    tickformat=\"%b\\n%Y\",\n",
    "    ticklabelmode=\"period\")\n",
    "    \n",
    "    fig.show()"
   ]
  },
  {
   "cell_type": "code",
   "execution_count": null,
   "metadata": {
    "tags": []
   },
   "outputs": [],
   "source": [
    "#table_index('IE_E')"
   ]
  },
  {
   "cell_type": "code",
   "execution_count": null,
   "metadata": {
    "tags": []
   },
   "outputs": [],
   "source": [
    "####ipywidgets"
   ]
  },
  {
   "cell_type": "code",
   "execution_count": null,
   "metadata": {
    "tags": []
   },
   "outputs": [],
   "source": [
    "indices=ipywidgets.Dropdown(options=indices,  value=indices[0],  \n",
    "                            description='Índice: ',\n",
    "                           layout={'width': 'max-content'})\n",
    "\n",
    "nd=ipywidgets.Dropdown(options=[0,1],  value=0, \n",
    "                       description='nd:',\n",
    "                      layout={'width': 'max-content'})\n",
    "\n",
    "regressao=ipywidgets.Dropdown(options=regressao,  value=regressao[0],  \n",
    "                              description='Regressão:',\n",
    "                             layout={'width': 'max-content'})\n",
    "\n",
    "tsw=ipywidgets.Dropdown(options=[0,1],  value=0,  \n",
    "                        description='tsw:',\n",
    "                       layout={'width': 'max-content'})\n",
    "\n",
    "\n",
    "info=ipywidgets.HBox([indices,nd,regressao,tsw])"
   ]
  },
  {
   "cell_type": "code",
   "execution_count": null,
   "metadata": {
    "tags": []
   },
   "outputs": [],
   "source": [
    "from IPython.display import display_html \n",
    "    \n",
    "out1 = ipywidgets.Output()\n",
    "out2 = ipywidgets.Output()\n",
    "out3= ipywidgets.Output()\n",
    "\n",
    "######## OUT1##################\n",
    "with out1:\n",
    "         display(erro_comp)\n",
    "###### OUT 2#####################    \n",
    "\n",
    "#g2=ipywidgets.interactive_output(plot_erro,  \n",
    "    #{'index':indices})\n",
    "\n",
    "g2_2=ipywidgets.interactive_output(plot_prev_erro_bar,  \n",
    "    {'index':indices})\n",
    "\n",
    "\n",
    "out2=ipywidgets.VBox([ipywidgets.HBox([indices]),g2_2])\n",
    "\n",
    "####   OUT3   #####################    \n",
    "#g3_1=ipywidgets.interactive_output(plot_prev,  \n",
    "  #  {'index':indices})\n",
    "\n",
    "g3_11=ipywidgets.interactive_output(table_index,  \n",
    "    {'index':indices})\n",
    "\n",
    "\n",
    "g3_2=ipywidgets.interactive_output(plot_prev_box,  \n",
    "    {'index':indices})\n",
    "\n",
    "\n",
    "\n",
    "g3_3=ipywidgets.interactive_output(plot_erro_box,  \n",
    "    {'index':indices})\n",
    "\n",
    "\n",
    "\n",
    "out3=ipywidgets.VBox([\n",
    "    ipywidgets.HBox([indices,g3_11]),\n",
    "    ipywidgets.HBox([g3_2,g3_3]),\n",
    "    ])\n",
    "\n",
    "    \n",
    "    \n",
    "##############################    \n",
    "tab = ipywidgets.Tab(children = [out1, out2,out3])\n",
    "tab.set_title(0, 'Indíces')\n",
    "tab.set_title(1, 'Previsto X Real')\n",
    "tab.set_title(2, 'Previsão detalhada')\n",
    "\n",
    "display(tab)"
   ]
  }
 ],
 "metadata": {
  "kernelspec": {
   "display_name": "Python 3",
   "language": "python",
   "name": "python3"
  },
  "language_info": {
   "codemirror_mode": {
    "name": "ipython",
    "version": 3
   },
   "file_extension": ".py",
   "mimetype": "text/x-python",
   "name": "python",
   "nbconvert_exporter": "python",
   "pygments_lexer": "ipython3",
   "version": "3.8.8"
  },
  "toc-autonumbering": true
 },
 "nbformat": 4,
 "nbformat_minor": 4
}
