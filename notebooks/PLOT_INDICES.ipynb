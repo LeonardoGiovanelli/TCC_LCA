{
 "cells": [
  {
   "cell_type": "code",
   "execution_count": null,
   "metadata": {
    "tags": []
   },
   "outputs": [],
   "source": [
    "#  cd OneDrive\\INSPER\\PADS\\TCC\\FINAL\\TABELA_ERRO_PREVISÃO\\"
   ]
  },
  {
   "cell_type": "code",
   "execution_count": null,
   "metadata": {
    "tags": []
   },
   "outputs": [],
   "source": [
    "import warnings\n",
    "warnings.simplefilter(action='ignore', category=FutureWarning)\n",
    "warnings.filterwarnings('ignore')"
   ]
  },
  {
   "cell_type": "code",
   "execution_count": null,
   "metadata": {
    "tags": []
   },
   "outputs": [],
   "source": [
    "import numpy as np\n",
    "import math"
   ]
  },
  {
   "cell_type": "code",
   "execution_count": null,
   "metadata": {
    "tags": []
   },
   "outputs": [],
   "source": [
    "import itertools\n",
    "\n",
    "from functools import reduce"
   ]
  },
  {
   "cell_type": "code",
   "execution_count": null,
   "metadata": {
    "tags": []
   },
   "outputs": [],
   "source": [
    "import pandas as pd\n",
    "pd.set_option('display.max_columns', None)\n",
    "pd.options.display.float_format = '{:.2f}'.format"
   ]
  },
  {
   "cell_type": "code",
   "execution_count": null,
   "metadata": {},
   "outputs": [],
   "source": [
    "#import matplotlib.pyplot as plt\n",
    "import ipywidgets\n",
    "from ipywidgets import interactive,interactive_output\n",
    "from ipywidgets import Layout, Button, Label\n",
    "from ipywidgets import GridspecLayout,HBox, VBox, Box"
   ]
  },
  {
   "cell_type": "code",
   "execution_count": null,
   "metadata": {
    "tags": []
   },
   "outputs": [],
   "source": [
    "import plotly.graph_objects as go\n",
    "import plotly.express as px\n",
    "\n",
    "from plotly.subplots import make_subplots"
   ]
  },
  {
   "cell_type": "code",
   "execution_count": null,
   "metadata": {
    "tags": []
   },
   "outputs": [],
   "source": [
    "regressao=['knn','gb','mlr','rf']\n",
    "regressao_mlr=['knn','gb','rf']\n",
    "regressao=['knn','gb','rf']"
   ]
  },
  {
   "cell_type": "code",
   "execution_count": null,
   "metadata": {
    "tags": []
   },
   "outputs": [],
   "source": [
    "url='https://raw.githubusercontent.com/LeonardoGiovanelli/TCC_LCA/main/erro2/df_erro_EQM_indici_data_regressao_tsw_5.csv'\n",
    "erro_adjested_tidy=pd.read_csv(url)\n",
    "erro_adjested_tidy=erro_adjested_tidy.set_index(['Indice','Nd','Regressao','tsw'])\n",
    "erro_adjested_tidy=erro_adjested_tidy.round(2)\n",
    "erro_adjested_tidy.rename(columns={'Mes':\"Mês\"},inplace=True)"
   ]
  },
  {
   "cell_type": "code",
   "execution_count": null,
   "metadata": {
    "tags": []
   },
   "outputs": [],
   "source": [
    "indices=list(erro_adjested_tidy.index.levels[0])"
   ]
  },
  {
   "cell_type": "code",
   "execution_count": null,
   "metadata": {
    "tags": []
   },
   "outputs": [],
   "source": [
    "url='https://raw.githubusercontent.com/LeonardoGiovanelli/TCC_LCA/main/previsao2/df_PREVISAO_indici_data_regressao_tsw.csv'\n",
    "previsao=pd.read_csv(url).iloc[:,1:]\n",
    "previsao=previsao.round(2)\n",
    "previsao=previsao.set_index(['Indice','Nd','Regressao','tsw'])\n",
    "previsao=previsao.rename(columns={\"Eroo\": \"Erro\"})\n",
    "#previsao.head()"
   ]
  },
  {
   "cell_type": "code",
   "execution_count": null,
   "metadata": {
    "tags": []
   },
   "outputs": [],
   "source": [
    "def df_color(df,cmap,low,high): \n",
    "    dff=df.style.background_gradient(cmap=cmap, low=low, high=high)\n",
    "    return(dff)"
   ]
  },
  {
   "cell_type": "code",
   "execution_count": null,
   "metadata": {
    "tags": []
   },
   "outputs": [],
   "source": [
    "from itertools import compress, product\n",
    "\n",
    "def combinations(items):\n",
    "    return ( set(compress(items,mask)) for mask in product(*[[0,1]]*len(items)) )"
   ]
  },
  {
   "cell_type": "code",
   "execution_count": null,
   "metadata": {
    "tags": []
   },
   "outputs": [],
   "source": [
    "def w_avg(df, values, weights):\n",
    "    d = df[values]\n",
    "    w = df[weights]\n",
    "    return (d * w).sum() / (w.sum())"
   ]
  },
  {
   "cell_type": "code",
   "execution_count": null,
   "metadata": {
    "tags": []
   },
   "outputs": [],
   "source": [
    "def add_data(r):\n",
    "    r['Dia']=\"1\"\n",
    "    r[\"Ano\"]=r[\"Ano\"].apply(lambda x: math.trunc(x))\n",
    "    r[\"Mês\"]=r[\"Mês\"].apply(lambda x: math.trunc(x))\n",
    "    r['data']=pd.to_datetime(r[\"Ano\"].astype(str) + \"/\" + r[\"Mês\"].astype(str) + \"/\" + r[\"Dia\"])\n",
    "    return(r)"
   ]
  },
  {
   "cell_type": "code",
   "execution_count": null,
   "metadata": {
    "tags": []
   },
   "outputs": [],
   "source": [
    "# #########ERRO"
   ]
  },
  {
   "cell_type": "code",
   "execution_count": null,
   "metadata": {
    "tags": []
   },
   "outputs": [],
   "source": [
    "import sklearn\n",
    "from sklearn.metrics import r2_score\n",
    "import math\n",
    "\n",
    "def mean_erro(indice_nome,reg):\n",
    "\n",
    "    p=erro_adjested_tidy.loc[indice_nome,:,reg,:].groupby(['Ano','Mês']).\\\n",
    "    apply(lambda x: np.average(x.Previsto, weights=1/(x['Real-Previsto']+.0002)))\n",
    "    p=pd.DataFrame(p)\n",
    "    \n",
    "    erro=erro_adjested_tidy.loc[indice_nome,:,reg,:].groupby(['Ano','Mês']).\\\n",
    "    apply(lambda x: np.average(x.Erro, weights=1/(x['Real-Previsto']+.0002)))\n",
    "    erro=pd.DataFrame(erro).reset_index().iloc[:,-1]\n",
    "        \n",
    "    r=erro_adjested_tidy.loc[indice_nome,0,'knn',0]\n",
    "    r=r['Real']\n",
    "    r=r.reset_index()\n",
    "\n",
    "    p=pd.concat([p.reset_index(),r],axis=1,ignore_index=True)\n",
    "    p=p[[0,1,7,2]]\n",
    "\n",
    "    p.columns=['Ano','Mes','Real','Previsto']\n",
    "    \n",
    "    p['Erro']=erro\n",
    "    p['Real-Previsto']=p['Real']-p['Previsto']\n",
    "    p['Eqm(%)']=100*((p['Real-Previsto']/p['Real'])**2)**.5\n",
    "  \n",
    "    return(p)"
   ]
  },
  {
   "cell_type": "code",
   "execution_count": null,
   "metadata": {
    "tags": []
   },
   "outputs": [],
   "source": [
    "def mean_erro_index(indice_nome):\n",
    "    \n",
    "    regressao=['knn','gb','rf']\n",
    "    \n",
    "    reg_comb=list(combinations(regressao))[1:]\n",
    "    reg_comb=list(reg_comb)\n",
    "\n",
    "    t=[mean_erro(indice_nome,r) for r in reg_comb]\n",
    "\n",
    "    t_rp_mean=[np.mean(x['Real-Previsto']**2)**0.5 for x in t]\n",
    "    t_rp_std=[np.std((x['Real-Previsto'])) for x in t]\n",
    "\n",
    "    t_eqm_mean=[np.mean(x['Eqm(%)']**2)**.5 for x in t]\n",
    "    t_eqm_std=[np.std(abs(x['Eqm(%)'])) for x in t]\n",
    "\n",
    "    t_r2=[r2_score(x['Real'],x['Previsto']) for x in t]\n",
    "\n",
    "    t_pd=pd.DataFrame([reg_comb,t_rp_mean,t_rp_std,t_eqm_mean,t_eqm_std,t_r2]).transpose()\n",
    "    t_pd.columns=['reg','rp_mean','rp_std','eqm_mean(%)','eqm_std(%)','r2']\n",
    "\n",
    "    #var='eqm_mean(%)'\n",
    "    var='r2'\n",
    "    \n",
    "    if var=='eqm_mean(%)':\n",
    "        t_summary=t_pd.sort_values(by=[var],ascending=True)\n",
    "    if var=='r2':\n",
    "        t_summary=t_pd.sort_values(by=[var],ascending=False)\n",
    "    \n",
    "    best_index=t_summary.index[0]\n",
    "    t_best=t[best_index]\n",
    "    \n",
    "    return([t_summary,t_best.rename(columns={'Mes':'Mês'})])"
   ]
  },
  {
   "cell_type": "code",
   "execution_count": null,
   "metadata": {
    "tags": []
   },
   "outputs": [],
   "source": [
    "erro_merged=[mean_erro_index(i) for i in indices]"
   ]
  },
  {
   "cell_type": "code",
   "execution_count": null,
   "metadata": {
    "tags": []
   },
   "outputs": [],
   "source": [
    "erro_comp=pd.concat([x[0].iloc[0,-3:] for x in erro_merged],axis=1).reset_index()\n",
    "erro_comp.iloc[0:2,:]=erro_comp.iloc[0:2,:].round(0)\n",
    "erro_comp=erro_comp.set_index('index')\n",
    "erro_comp.columns=indices\n",
    "erro_comp.index.names = ['']\n",
    "erro_comp=erro_comp.transpose().sort_values('r2',ascending=False)"
   ]
  },
  {
   "cell_type": "code",
   "execution_count": null,
   "metadata": {
    "tags": []
   },
   "outputs": [],
   "source": [
    "teste=erro_adjested_tidy\n",
    "\n",
    "teste_0=teste[np.in1d(teste.index.get_level_values(1), [0])]\n",
    "teste_0=teste_0.groupby(['Indice','Regressao']).mean()\n",
    "teste_0f=teste_0.reset_index().pivot(index='Indice', columns='Regressao', values='Real-Previsto(%)').round(0)\n",
    "\n",
    "\n",
    "teste_1=teste[np.in1d(teste.index.get_level_values(1), [1])]\n",
    "teste_1=teste_1.groupby(['Indice','Regressao']).mean()\n",
    "teste_1f=teste_1.reset_index().pivot(index='Indice', columns='Regressao', values='Real-Previsto(%)').round(0)"
   ]
  },
  {
   "cell_type": "code",
   "execution_count": null,
   "metadata": {
    "tags": []
   },
   "outputs": [],
   "source": [
    "####### previsao"
   ]
  },
  {
   "cell_type": "code",
   "execution_count": null,
   "metadata": {
    "tags": []
   },
   "outputs": [],
   "source": [
    "def mean_previsao(indice_nome):\n",
    "    \n",
    "    indices=list(previsao.index.levels[0])\n",
    "    index_number=indices.index(indice_nome)\n",
    "    \n",
    "    reg=erro_merged[index_number][0].iloc[0,0]\n",
    "    #############\n",
    "    \n",
    "    p=previsao.loc[indice_nome,:,reg,:].groupby(['Ano','Mês']).\\\n",
    "    apply(lambda x: np.average(x.Previsão, weights=1/(x['EQM(%)']+.000002)))\n",
    "    p=pd.DataFrame(p)\n",
    "\n",
    "    erro=previsao.loc[indice_nome,:,reg,:].groupby(['Ano','Mês']).\\\n",
    "    apply(lambda x: np.average(x.Erro, weights=1/(x['EQM(%)']+.000002)))\n",
    "    erro=pd.DataFrame(erro)\n",
    "    \n",
    "    eqm=previsao.loc[indice_nome,:,reg,:].groupby(['Ano','Mês'])['EQM(%)'].mean()\n",
    "    df=pd.concat([p,erro,eqm],axis=1,ignore_index=True)\n",
    "\n",
    "    df.columns=['Previsão','Erro','EQM(%)']\n",
    "    return(add_data(df.reset_index()))"
   ]
  },
  {
   "cell_type": "code",
   "execution_count": null,
   "metadata": {
    "tags": []
   },
   "outputs": [],
   "source": [
    "previsao_merged=[mean_previsao(i) for i in indices]"
   ]
  },
  {
   "cell_type": "code",
   "execution_count": null,
   "metadata": {
    "tags": []
   },
   "outputs": [],
   "source": [
    "def plot_prev(index):\n",
    " \n",
    "    colors=[\"black\",\"blue\"]\n",
    "   \n",
    "    indices=list(erro_adjested_tidy.index.levels[0])\n",
    "    index_number=indices.index(index)\n",
    "    \n",
    "############# data   \n",
    "    r=previsao_merged[index_number].round(2)              \n",
    "\n",
    "    min=np.min(r['Previsão']-r['Erro'])\n",
    "    max=np.max(r['Previsão']+r['Erro'])\n",
    "########################################    \n"
   ]
  },
  {
   "cell_type": "code",
   "execution_count": null,
   "metadata": {
    "tags": []
   },
   "outputs": [],
   "source": [
    "def plot_erro(index):\n",
    " \n",
    " ############ get data \n",
    "    colors=[\"black\",\"blue\"]\n",
    "   \n",
    "    indices=list(erro_adjested_tidy.index.levels[0])\n",
    "    index_number=indices.index(index)\n",
    "    r=add_data(erro_merged[index_number][1]).round(2)              \n",
    "\n",
    "    min=np.min(np.min(r[['Real','Previsto']]))\n",
    "    max=np.max(np.max(r[['Real','Previsto']]))\n",
    "    \n",
    "########################################    \n",
    "    fig = go.Figure() \n",
    "    \n",
    "    fig.add_trace(go.Scatter(\n",
    "    line=dict(color=colors[0]),\n",
    "    x=r['data'],\n",
    "    y=r['Previsto'],\n",
    "     error_y=dict(\n",
    "   type='data',\n",
    "   symmetric=True,\n",
    "   array=r['Erro']),\n",
    "     name=\"Previsto\"))\n",
    "\n",
    "    fig.add_trace(go.Scatter(\n",
    "        line=dict(color=colors[1]),\n",
    "        x=r['data'],\n",
    "        y=r['Real'],\n",
    "       name=\"Real\"))\n",
    "\n",
    "    fig.update_xaxes(dtick=\"M1\",    tickformat=\"%b\\n%Y\")\n",
    "    fig.update_layout(title={'text':index,'x':0.5,'xanchor': 'center'})\n",
    "    fig.show()"
   ]
  },
  {
   "cell_type": "code",
   "execution_count": null,
   "metadata": {},
   "outputs": [],
   "source": [
    "def plot_prev_erro_bar(index):\n",
    "    \n",
    "    indices=list(erro_adjested_tidy.index.levels[0])\n",
    "    n=indices.index(index)\n",
    "################    \n",
    "    e=erro_merged[n][1]\n",
    "    #e=e[e.Ano>=2020]\n",
    "    e=add_data(e)\n",
    "    e=e.iloc[:,[-1,2,3,4]]\n",
    "    e=e.rename(columns={\"Previsto\":\"Previsão\"})\n",
    "##############\n",
    "    p=previsao_merged[n]\n",
    "    p=add_data(p)\n",
    "    p=p.iloc[:,[-1,2,3]]\n",
    "###############    \n",
    "    ep=pd.concat([e,p],axis=0).reset_index()\n",
    "###############    \n",
    "    ep_m=pd.melt(ep, id_vars=['data'], value_vars=['Real','Previsão']).dropna().reset_index()\n",
    "    \n",
    "\n",
    "    l=[[0]*len(ep_m[ep_m.variable==\"Real\"]),list(e['Erro'].append(p['Erro']).reset_index().iloc[:,1])]\n",
    "    l = list(itertools.chain(*l))\n",
    "    erro=l\n",
    "    ep_m['Erro']=erro\n",
    "    ep_m=ep_m.round(2)\n",
    "    \n",
    "###############################    \n",
    "    fig = px.bar(ep_m, \n",
    "             x=\"data\", y=\"value\", \n",
    "             color=\"variable\",\n",
    "             error_y=\"Erro\",\n",
    "            barmode='group',\n",
    "            color_discrete_sequence=[\"blue\", \"black\"])\n",
    "\n",
    "    min=np.min(ep_m['value']-ep_m['Erro'])*0.99\n",
    "    max=np.max(ep_m['value']+ep_m['Erro'])*1.01\n",
    "    fig.update_yaxes(range=[min,max])\n",
    "\n",
    "    fig.show()"
   ]
  },
  {
   "cell_type": "code",
   "execution_count": null,
   "metadata": {
    "tags": []
   },
   "outputs": [],
   "source": [
    "def table_index(index):\n",
    "    \n",
    "    indices=list(erro_adjested_tidy.index.levels[0])\n",
    "    index_number=indices.index(index)\n",
    "\n",
    "    reg=erro_merged[index_number][0].iloc[0,0]\n",
    "\n",
    "    r_boxplot=previsao.loc[indices[index_number],:,reg,:]\n",
    "    r_boxplot=add_data(r_boxplot)\n",
    "    r_boxplot=r_boxplot.reset_index()\n",
    "    r_boxplot=r_boxplot.iloc[:,:-3]\n",
    "    \n",
    "    r_boxplot['Erro(%)']=100*r_boxplot['Erro']/r_boxplot['Previsão']\n",
    "    r_boxplot=r_boxplot.iloc[:,4:].groupby(['Ano','Mês']).mean().round(2)\n",
    "    \n",
    "    display(r_boxplot)\n",
    "   #return(r_boxplot)\n"
   ]
  },
  {
   "cell_type": "code",
   "execution_count": null,
   "metadata": {
    "tags": []
   },
   "outputs": [],
   "source": [
    "def plot_prev_box(index):\n",
    "    \n",
    "    indices=list(erro_adjested_tidy.index.levels[0])\n",
    "    index_number=indices.index(index)\n",
    "    \n",
    "    reg=erro_merged[index_number][0].iloc[0,0]\n",
    "    \n",
    "    r_boxplot=previsao.loc[index,:,reg,:]\n",
    "    r_boxplot=add_data(r_boxplot)\n",
    "    \n",
    "    r_boxplot\n",
    "    \n",
    "    fig = px.box(r_boxplot, \n",
    "                 x = \"data\",\n",
    "                 y=\"Previsão\",\n",
    "                 points=False,\n",
    "                  title=\"Box plot da previsão\"\n",
    "                )\n",
    "    \n",
    "    fig.update_xaxes(\n",
    "    dtick=\"M1\",\n",
    "    tickformat=\"%b\\n%Y\",\n",
    "    ticklabelmode=\"period\")\n",
    "    \n",
    "    fig.show()\n",
    "    "
   ]
  },
  {
   "cell_type": "code",
   "execution_count": null,
   "metadata": {
    "tags": []
   },
   "outputs": [],
   "source": [
    "def plot_erro_box(index):\n",
    "    \n",
    "    indices=list(erro_adjested_tidy.index.levels[0])\n",
    "    index_number=indices.index(index)\n",
    "    \n",
    "    reg=erro_merged[index_number][0].iloc[0,0]\n",
    "    \n",
    "    r_boxplot=previsao.loc[index,:,reg,:]\n",
    "    r_boxplot=add_data(r_boxplot)\n",
    "    \n",
    "    r_boxplot\n",
    "    \n",
    "    fig = px.box(r_boxplot, \n",
    "                 x = \"data\",\n",
    "                 y=\"Erro\",\n",
    "                 points=False,\n",
    "                  title=\"Box plot do erro\"\n",
    "                )\n",
    "    \n",
    "    fig.update_xaxes(\n",
    "    dtick=\"M1\",\n",
    "    tickformat=\"%b\\n%Y\",\n",
    "    ticklabelmode=\"period\")\n",
    "    \n",
    "    fig.show()"
   ]
  },
  {
   "cell_type": "code",
   "execution_count": null,
   "metadata": {
    "tags": []
   },
   "outputs": [],
   "source": [
    "#table_index('IE_E')"
   ]
  },
  {
   "cell_type": "code",
   "execution_count": null,
   "metadata": {
    "tags": []
   },
   "outputs": [],
   "source": [
    "####ipywidgets"
   ]
  },
  {
   "cell_type": "code",
   "execution_count": null,
   "metadata": {
    "tags": []
   },
   "outputs": [],
   "source": [
    "indices=ipywidgets.Dropdown(options=indices,  value=indices[0],  \n",
    "                            description='Índice: ',\n",
    "                           layout={'width': 'max-content'})\n",
    "\n",
    "nd=ipywidgets.Dropdown(options=[0,1],  value=0, \n",
    "                       description='nd:',\n",
    "                      layout={'width': 'max-content'})\n",
    "\n",
    "regressao=ipywidgets.Dropdown(options=regressao,  value=regressao[0],  \n",
    "                              description='Regressão:',\n",
    "                             layout={'width': 'max-content'})\n",
    "\n",
    "tsw=ipywidgets.Dropdown(options=[0,1],  value=0,  \n",
    "                        description='tsw:',\n",
    "                       layout={'width': 'max-content'})\n",
    "\n",
    "\n",
    "info=ipywidgets.HBox([indices,nd,regressao,tsw])"
   ]
  },
  {
   "cell_type": "code",
   "execution_count": null,
   "metadata": {
    "tags": []
   },
   "outputs": [],
   "source": [
    "from IPython.display import display_html \n",
    "    \n",
    "out1 = ipywidgets.Output()\n",
    "out2 = ipywidgets.Output()\n",
    "out3= ipywidgets.Output()\n",
    "\n",
    "######## OUT1##################\n",
    "with out1:\n",
    "         display(erro_comp)\n",
    "###### OUT 2#####################    \n",
    "\n",
    "#g2=ipywidgets.interactive_output(plot_erro,  \n",
    "    #{'index':indices})\n",
    "\n",
    "g2_2=ipywidgets.interactive_output(plot_prev_erro_bar,  \n",
    "    {'index':indices})\n",
    "\n",
    "\n",
    "out2=ipywidgets.VBox([ipywidgets.HBox([indices]),g2_2])\n",
    "\n",
    "####   OUT3   #####################    \n",
    "#g3_1=ipywidgets.interactive_output(plot_prev,  \n",
    "  #  {'index':indices})\n",
    "\n",
    "g3_11=ipywidgets.interactive_output(table_index,  \n",
    "    {'index':indices})\n",
    "\n",
    "\n",
    "g3_2=ipywidgets.interactive_output(plot_prev_box,  \n",
    "    {'index':indices})\n",
    "\n",
    "\n",
    "\n",
    "g3_3=ipywidgets.interactive_output(plot_erro_box,  \n",
    "    {'index':indices})\n",
    "\n",
    "\n",
    "\n",
    "out3=ipywidgets.VBox([\n",
    "    ipywidgets.HBox([indices,g3_11]),\n",
    "    ipywidgets.HBox([g3_2,g3_3]),\n",
    "    ])\n",
    "\n",
    "    \n",
    "    \n",
    "##############################    \n",
    "tab = ipywidgets.Tab(children = [out1, out2,out3])\n",
    "tab.set_title(0, 'Indíces')\n",
    "tab.set_title(1, 'Previsto X Real')\n",
    "tab.set_title(2, 'Previsão detalhada')\n",
    "\n",
    "display(tab)"
   ]
  }
 ],
 "metadata": {
  "kernelspec": {
   "display_name": "Python 3",
   "language": "python",
   "name": "python3"
  },
  "language_info": {
   "codemirror_mode": {
    "name": "ipython",
    "version": 3
   },
   "file_extension": ".py",
   "mimetype": "text/x-python",
   "name": "python",
   "nbconvert_exporter": "python",
   "pygments_lexer": "ipython3",
   "version": "3.8.8"
  },
  "toc-autonumbering": true
 },
 "nbformat": 4,
 "nbformat_minor": 4
}
