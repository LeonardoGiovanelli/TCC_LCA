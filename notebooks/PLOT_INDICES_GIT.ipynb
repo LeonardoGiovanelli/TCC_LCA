{
 "cells": [
  {
   "cell_type": "code",
   "execution_count": 1,
   "metadata": {
    "execution": {
     "iopub.execute_input": "2021-06-16T01:41:30.081177Z",
     "iopub.status.busy": "2021-06-16T01:41:30.081177Z",
     "iopub.status.idle": "2021-06-16T01:41:30.088181Z",
     "shell.execute_reply": "2021-06-16T01:41:30.088181Z",
     "shell.execute_reply.started": "2021-06-16T01:41:30.081177Z"
    },
    "tags": []
   },
   "outputs": [],
   "source": [
    "#  cd OneDrive\\INSPER\\PADS\\TCC\\FINAL\\TABELA_ERRO_PREVISÃO\\"
   ]
  },
  {
   "cell_type": "code",
   "execution_count": 2,
   "metadata": {
    "execution": {
     "iopub.execute_input": "2021-06-16T01:41:30.090184Z",
     "iopub.status.busy": "2021-06-16T01:41:30.090184Z",
     "iopub.status.idle": "2021-06-16T01:41:30.104176Z",
     "shell.execute_reply": "2021-06-16T01:41:30.104176Z",
     "shell.execute_reply.started": "2021-06-16T01:41:30.090184Z"
    },
    "tags": []
   },
   "outputs": [],
   "source": [
    "import warnings\n",
    "warnings.simplefilter(action='ignore', category=FutureWarning)\n",
    "warnings.filterwarnings('ignore')"
   ]
  },
  {
   "cell_type": "code",
   "execution_count": 3,
   "metadata": {
    "execution": {
     "iopub.execute_input": "2021-06-16T01:41:30.106183Z",
     "iopub.status.busy": "2021-06-16T01:41:30.106183Z",
     "iopub.status.idle": "2021-06-16T01:41:30.231190Z",
     "shell.execute_reply": "2021-06-16T01:41:30.230179Z",
     "shell.execute_reply.started": "2021-06-16T01:41:30.106183Z"
    },
    "tags": []
   },
   "outputs": [],
   "source": [
    "import numpy as np\n",
    "import math"
   ]
  },
  {
   "cell_type": "code",
   "execution_count": 4,
   "metadata": {
    "execution": {
     "iopub.execute_input": "2021-06-16T01:41:30.232193Z",
     "iopub.status.busy": "2021-06-16T01:41:30.232193Z",
     "iopub.status.idle": "2021-06-16T01:41:30.246179Z",
     "shell.execute_reply": "2021-06-16T01:41:30.246179Z",
     "shell.execute_reply.started": "2021-06-16T01:41:30.232193Z"
    },
    "tags": []
   },
   "outputs": [],
   "source": [
    "import itertools\n",
    "from functools import reduce"
   ]
  },
  {
   "cell_type": "code",
   "execution_count": 5,
   "metadata": {
    "execution": {
     "iopub.execute_input": "2021-06-16T01:41:30.247181Z",
     "iopub.status.busy": "2021-06-16T01:41:30.247181Z",
     "iopub.status.idle": "2021-06-16T01:41:31.275179Z",
     "shell.execute_reply": "2021-06-16T01:41:31.274177Z",
     "shell.execute_reply.started": "2021-06-16T01:41:30.247181Z"
    },
    "tags": []
   },
   "outputs": [],
   "source": [
    "from matplotlib import pyplot as plt\n",
    "import matplotlib.pyplot as ply"
   ]
  },
  {
   "cell_type": "code",
   "execution_count": 6,
   "metadata": {
    "execution": {
     "iopub.execute_input": "2021-06-16T01:41:31.276180Z",
     "iopub.status.busy": "2021-06-16T01:41:31.276180Z",
     "iopub.status.idle": "2021-06-16T01:41:31.290176Z",
     "shell.execute_reply": "2021-06-16T01:41:31.290176Z",
     "shell.execute_reply.started": "2021-06-16T01:41:31.276180Z"
    },
    "tags": []
   },
   "outputs": [],
   "source": [
    "import pandas as pd\n",
    "pd.set_option('display.max_columns', None)\n",
    "pd.options.display.float_format = '{:.2f}'.format"
   ]
  },
  {
   "cell_type": "code",
   "execution_count": 7,
   "metadata": {
    "execution": {
     "iopub.execute_input": "2021-06-16T01:41:31.293179Z",
     "iopub.status.busy": "2021-06-16T01:41:31.292183Z",
     "iopub.status.idle": "2021-06-16T01:41:31.307179Z",
     "shell.execute_reply": "2021-06-16T01:41:31.306182Z",
     "shell.execute_reply.started": "2021-06-16T01:41:31.293179Z"
    }
   },
   "outputs": [],
   "source": [
    "#import matplotlib.pyplot as plt\n",
    "import ipywidgets\n",
    "from ipywidgets import interactive,interactive_output\n",
    "from ipywidgets import Layout, Button, Label\n",
    "from ipywidgets import GridspecLayout,HBox, VBox, Box"
   ]
  },
  {
   "cell_type": "code",
   "execution_count": 8,
   "metadata": {
    "execution": {
     "iopub.execute_input": "2021-06-16T01:41:31.310179Z",
     "iopub.status.busy": "2021-06-16T01:41:31.309190Z",
     "iopub.status.idle": "2021-06-16T01:41:31.463179Z",
     "shell.execute_reply": "2021-06-16T01:41:31.462181Z",
     "shell.execute_reply.started": "2021-06-16T01:41:31.310179Z"
    },
    "tags": []
   },
   "outputs": [],
   "source": [
    "import plotly.graph_objects as go\n",
    "import plotly.express as px\n",
    "\n",
    "from plotly.subplots import make_subplots"
   ]
  },
  {
   "cell_type": "code",
   "execution_count": 9,
   "metadata": {
    "execution": {
     "iopub.execute_input": "2021-06-16T01:41:31.465182Z",
     "iopub.status.busy": "2021-06-16T01:41:31.465182Z",
     "iopub.status.idle": "2021-06-16T01:41:31.478178Z",
     "shell.execute_reply": "2021-06-16T01:41:31.478178Z",
     "shell.execute_reply.started": "2021-06-16T01:41:31.465182Z"
    },
    "tags": []
   },
   "outputs": [],
   "source": [
    "def df_color(df,cmap,low,high): \n",
    "    dff=df.style.background_gradient(cmap=cmap, low=low, high=high)\n",
    "    return(dff)"
   ]
  },
  {
   "cell_type": "code",
   "execution_count": 10,
   "metadata": {
    "execution": {
     "iopub.execute_input": "2021-06-16T01:41:31.480183Z",
     "iopub.status.busy": "2021-06-16T01:41:31.480183Z",
     "iopub.status.idle": "2021-06-16T01:41:31.494179Z",
     "shell.execute_reply": "2021-06-16T01:41:31.493178Z",
     "shell.execute_reply.started": "2021-06-16T01:41:31.480183Z"
    },
    "tags": []
   },
   "outputs": [],
   "source": [
    "regressao=['knn','gb','mlr','rf']\n",
    "regressao_mlr=['knn','gb','rf']"
   ]
  },
  {
   "cell_type": "code",
   "execution_count": 11,
   "metadata": {
    "execution": {
     "iopub.execute_input": "2021-06-16T01:41:31.495180Z",
     "iopub.status.busy": "2021-06-16T01:41:31.495180Z",
     "iopub.status.idle": "2021-06-16T01:41:31.509179Z",
     "shell.execute_reply": "2021-06-16T01:41:31.508191Z",
     "shell.execute_reply.started": "2021-06-16T01:41:31.495180Z"
    },
    "tags": []
   },
   "outputs": [],
   "source": [
    "# ERRO"
   ]
  },
  {
   "cell_type": "code",
   "execution_count": 12,
   "metadata": {
    "execution": {
     "iopub.execute_input": "2021-06-16T01:42:29.329849Z",
     "iopub.status.busy": "2021-06-16T01:42:29.329849Z",
     "iopub.status.idle": "2021-06-16T01:42:30.508846Z",
     "shell.execute_reply": "2021-06-16T01:42:30.507846Z",
     "shell.execute_reply.started": "2021-06-16T01:42:29.329849Z"
    },
    "tags": []
   },
   "outputs": [],
   "source": [
    "url='https://raw.githubusercontent.com/LeonardoGiovanelli/TCC_LCA/main/erro2/df_erro_EQM_indici_data_regressao_tsw_5.csv'\n",
    "erro_adjested_tidy=pd.read_csv(url)\n",
    "erro_adjested_tidy=erro_adjested_tidy.set_index(['Indice','Nd','Regressao','tsw'])\n",
    "erro_adjested_tidy=erro_adjested_tidy.round(2)\n",
    "erro_adjested_tidy.rename(columns={'Mes':\"Mês\"},inplace=True)"
   ]
  },
  {
   "cell_type": "code",
   "execution_count": 13,
   "metadata": {
    "execution": {
     "iopub.execute_input": "2021-06-16T01:27:54.707644Z",
     "iopub.status.busy": "2021-06-16T01:27:54.706643Z",
     "iopub.status.idle": "2021-06-16T01:27:54.722643Z",
     "shell.execute_reply": "2021-06-16T01:27:54.721642Z",
     "shell.execute_reply.started": "2021-06-16T01:27:54.707644Z"
    },
    "tags": []
   },
   "outputs": [],
   "source": [
    "indices=list(erro_adjested_tidy.index.levels[0])"
   ]
  },
  {
   "cell_type": "code",
   "execution_count": 14,
   "metadata": {
    "execution": {
     "iopub.execute_input": "2021-06-16T01:27:54.723643Z",
     "iopub.status.busy": "2021-06-16T01:27:54.723643Z",
     "iopub.status.idle": "2021-06-16T01:27:54.753643Z",
     "shell.execute_reply": "2021-06-16T01:27:54.752642Z",
     "shell.execute_reply.started": "2021-06-16T01:27:54.723643Z"
    },
    "tags": []
   },
   "outputs": [],
   "source": [
    "teste=erro_adjested_tidy\n",
    "\n",
    "teste_0=teste[np.in1d(teste.index.get_level_values(1), [0])]\n",
    "teste_0=teste_0.groupby(['Indice','Regressao']).mean()\n",
    "teste_0f=teste_0.reset_index().pivot(index='Indice', columns='Regressao', values='Real-Previsto(%)').round(0)\n",
    "\n",
    "\n",
    "teste_1=teste[np.in1d(teste.index.get_level_values(1), [1])]\n",
    "teste_1=teste_1.groupby(['Indice','Regressao']).mean()\n",
    "teste_1f=teste_1.reset_index().pivot(index='Indice', columns='Regressao', values='Real-Previsto(%)').round(0)"
   ]
  },
  {
   "cell_type": "code",
   "execution_count": 15,
   "metadata": {
    "execution": {
     "iopub.execute_input": "2021-06-16T01:27:54.754644Z",
     "iopub.status.busy": "2021-06-16T01:27:54.754644Z",
     "iopub.status.idle": "2021-06-16T01:27:54.768643Z",
     "shell.execute_reply": "2021-06-16T01:27:54.767643Z",
     "shell.execute_reply.started": "2021-06-16T01:27:54.754644Z"
    },
    "tags": []
   },
   "outputs": [],
   "source": [
    "def plotly_real_prev_erro(indice,regressao):\n",
    " \n",
    " ############ get data \n",
    "    colors=[[\"black\",\"grey\"],[\"maroon\",\"firebrick\"]]\n",
    "    if regressao != 'knn':\n",
    "                \n",
    "        fig = make_subplots(rows=2, cols=2)   \n",
    "        min=[]\n",
    "        max=[]\n",
    "        for n_nd in range(0,2):\n",
    "            for n_tsw in range(0,2):\n",
    "                \n",
    "                r=add_data(erro_adjested_tidy.loc[indice,n_nd,regressao,n_tsw])              \n",
    "                \n",
    "                min.append(np.min(r['Previsto']-r['Erro']))\n",
    "                max.append(np.max(r['Previsto']+r['Erro']))                 \n",
    "\n",
    "                fig.add_trace(go.Scatter(\n",
    "                line=dict(color=colors[n_nd][n_tsw]),\n",
    "                x=r['data'],\n",
    "                y=r['Previsto'],\n",
    "                 error_y=dict(\n",
    "                type='data',\n",
    "                symmetric=True,\n",
    "                array=r['Erro']),\n",
    "                 name=\"nd=\"+str(n_nd)+\" tsw=\"+str(n_tsw)),\n",
    "                            row=n_tsw+1,\n",
    "                              col=n_nd+1)\n",
    "\n",
    "                fig.add_trace(go.Scatter(\n",
    "                    line=dict(color=\"blue\"),\n",
    "                    x=r['data'],\n",
    "                    y=r['Real'],\n",
    "                   name=\"Real\"),\n",
    "                             row=n_tsw+1,\n",
    "                              col=n_nd+1)\n",
    "\n",
    "            \n",
    "        fig.update_xaxes(dtick=\"M1\",    tickformat=\"%b\\n%Y\")\n",
    "        fig.update_layout(title={'text':indice,'x':0.5,'xanchor': 'center'})\n",
    "        fig.show()\n",
    "        \n",
    "    else: \n",
    "        fig = make_subplots(rows=1, cols=2)\n",
    "        colors=colors[0]         \n",
    "        min=[]\n",
    "        max=[]\n",
    "        for n_nd in range(0,2):\n",
    "                \n",
    "            r=add_data(erro_adjested_tidy.loc[indice,n_nd,regressao,0])              \n",
    "\n",
    "            min.append(np.min(r['Previsto']-r['Erro']))\n",
    "            max.append(np.max(r['Previsto']+r['Erro']))\n",
    "\n",
    "            fig.add_trace(go.Scatter(\n",
    "            x=r['data'],\n",
    "            y=r['Previsto'],\n",
    "            line=dict(color=colors[n_nd]),\n",
    "             error_y=dict(\n",
    "            type='data',\n",
    "            symmetric=True,\n",
    "            array=r['Erro']),\n",
    "             name=\"nd=\"+str(n_nd)+\" tsw=\"+str(0)),\n",
    "                         row=1,col=n_nd+1)\n",
    "            \n",
    "            fig.add_trace(go.Scatter(\n",
    "            line=dict(color=\"blue\"),\n",
    "            x=r['data'],\n",
    "            y=r['Real'],\n",
    "            name=\"Real\"),\n",
    "                     row=1,\n",
    "                      col=n_nd+1)\n",
    "            \n",
    "        fig.show()"
   ]
  },
  {
   "cell_type": "code",
   "execution_count": 16,
   "metadata": {
    "execution": {
     "iopub.execute_input": "2021-06-16T01:27:54.769644Z",
     "iopub.status.busy": "2021-06-16T01:27:54.769644Z",
     "iopub.status.idle": "2021-06-16T01:27:54.784643Z",
     "shell.execute_reply": "2021-06-16T01:27:54.783642Z",
     "shell.execute_reply.started": "2021-06-16T01:27:54.769644Z"
    }
   },
   "outputs": [],
   "source": [
    "#previsao"
   ]
  },
  {
   "cell_type": "code",
   "execution_count": 17,
   "metadata": {
    "execution": {
     "iopub.execute_input": "2021-06-16T01:43:47.784125Z",
     "iopub.status.busy": "2021-06-16T01:43:47.784125Z",
     "iopub.status.idle": "2021-06-16T01:43:48.270125Z",
     "shell.execute_reply": "2021-06-16T01:43:48.269124Z",
     "shell.execute_reply.started": "2021-06-16T01:43:47.784125Z"
    },
    "tags": []
   },
   "outputs": [],
   "source": [
    "url='https://raw.githubusercontent.com/LeonardoGiovanelli/TCC_LCA/main/previsao2/df_PREVISAO_indici_data_regressao_tsw.csv'\n",
    "previsao=pd.read_csv(url).iloc[:,1:]\n",
    "previsao=previsao.round(2)\n",
    "previsao=previsao.set_index(['Indice','Nd','Regressao','tsw'])\n",
    "previsao=previsao.rename(columns={\"Eroo\": \"Erro\"})\n",
    "#previsao.head()"
   ]
  },
  {
   "cell_type": "code",
   "execution_count": 18,
   "metadata": {
    "execution": {
     "iopub.execute_input": "2021-06-16T01:27:54.801644Z",
     "iopub.status.busy": "2021-06-16T01:27:54.801644Z",
     "iopub.status.idle": "2021-06-16T01:27:54.816645Z",
     "shell.execute_reply": "2021-06-16T01:27:54.815642Z",
     "shell.execute_reply.started": "2021-06-16T01:27:54.801644Z"
    },
    "tags": []
   },
   "outputs": [],
   "source": [
    "#previsao.loc['IBC_BR',:,regressao_mlr]"
   ]
  },
  {
   "cell_type": "code",
   "execution_count": 19,
   "metadata": {
    "execution": {
     "iopub.execute_input": "2021-06-16T01:27:54.817644Z",
     "iopub.status.busy": "2021-06-16T01:27:54.816645Z",
     "iopub.status.idle": "2021-06-16T01:27:54.830642Z",
     "shell.execute_reply": "2021-06-16T01:27:54.830642Z",
     "shell.execute_reply.started": "2021-06-16T01:27:54.817644Z"
    },
    "tags": []
   },
   "outputs": [],
   "source": [
    "#previsao.loc['EPU',:,regressao_mlr].groupby(['Ano','Mês']).apply(lambda x: np.average(x.Previsão, weights=x['EQM(%)']))"
   ]
  },
  {
   "cell_type": "code",
   "execution_count": 20,
   "metadata": {
    "execution": {
     "iopub.execute_input": "2021-06-16T01:27:54.832643Z",
     "iopub.status.busy": "2021-06-16T01:27:54.831643Z",
     "iopub.status.idle": "2021-06-16T01:27:54.846644Z",
     "shell.execute_reply": "2021-06-16T01:27:54.845642Z",
     "shell.execute_reply.started": "2021-06-16T01:27:54.832643Z"
    },
    "tags": []
   },
   "outputs": [],
   "source": [
    "def w_avg(df, values, weights):\n",
    "    d = df[values]\n",
    "    w = df[weights]\n",
    "    return (d * w).sum() / (w.sum())"
   ]
  },
  {
   "cell_type": "code",
   "execution_count": 21,
   "metadata": {
    "execution": {
     "iopub.execute_input": "2021-06-16T01:27:54.847644Z",
     "iopub.status.busy": "2021-06-16T01:27:54.847644Z",
     "iopub.status.idle": "2021-06-16T01:27:58.300643Z",
     "shell.execute_reply": "2021-06-16T01:27:58.299643Z",
     "shell.execute_reply.started": "2021-06-16T01:27:54.847644Z"
    },
    "tags": []
   },
   "outputs": [],
   "source": [
    "from plotnine import *\n",
    "from plotnine.data import *\n",
    "\n",
    "from plotnine import ggplot, aes, geom_line,geom_smooth\n",
    "%matplotlib inline"
   ]
  },
  {
   "cell_type": "code",
   "execution_count": 22,
   "metadata": {
    "execution": {
     "iopub.execute_input": "2021-06-16T01:27:58.301647Z",
     "iopub.status.busy": "2021-06-16T01:27:58.301647Z",
     "iopub.status.idle": "2021-06-16T01:27:58.317648Z",
     "shell.execute_reply": "2021-06-16T01:27:58.315645Z",
     "shell.execute_reply.started": "2021-06-16T01:27:58.301647Z"
    },
    "tags": []
   },
   "outputs": [],
   "source": [
    "def add_data(r):\n",
    "    r['Dia']=\"1\"\n",
    "    r[\"Ano\"]=r[\"Ano\"].apply(lambda x: math.trunc(x))\n",
    "    r[\"Mês\"]=r[\"Mês\"].apply(lambda x: math.trunc(x))\n",
    "    r['data']=pd.to_datetime(r[\"Ano\"].astype(str) + \"/\" + r[\"Mês\"].astype(str) + \"/\" + r[\"Dia\"])\n",
    "    return(r)"
   ]
  },
  {
   "cell_type": "code",
   "execution_count": 23,
   "metadata": {
    "execution": {
     "iopub.execute_input": "2021-06-16T01:27:58.325649Z",
     "iopub.status.busy": "2021-06-16T01:27:58.325649Z",
     "iopub.status.idle": "2021-06-16T01:27:58.347646Z",
     "shell.execute_reply": "2021-06-16T01:27:58.347646Z",
     "shell.execute_reply.started": "2021-06-16T01:27:58.325649Z"
    },
    "tags": []
   },
   "outputs": [],
   "source": [
    "def plotly_real_prev(indice,regressao):\n",
    " \n",
    "    fig = go.Figure()\n",
    "    colors=[[\"black\",\"grey\"],[\"maroon\",\"firebrick\"]]\n",
    "    if regressao != 'knn':      \n",
    "          \n",
    "          \n",
    "        min=[]\n",
    "        max=[]\n",
    "        for n_nd in range(0,2):\n",
    "            for n_tsw in range(0,2):\n",
    "                \n",
    "                r_aux=add_data(previsao.loc[indice,n_nd,regressao,n_tsw])              \n",
    "                \n",
    "                min.append(np.min(r_aux['Previsão']-r_aux['Erro']))\n",
    "                max.append(np.max(r_aux['Previsão']+r_aux['Erro']))\n",
    "                \n",
    "                fig.add_trace(go.Bar(\n",
    "                #line=dict(color=colors[n_nd][n_tsw]),\n",
    "                marker={'color': colors[n_nd][n_tsw]},\n",
    "               #width=[3]*len(r_aux),\n",
    "                x=r_aux['data'],\n",
    "                y=r_aux['Previsão'],\n",
    "                 error_y=dict(\n",
    "                type='data',\n",
    "                symmetric=True,\n",
    "                array=r_aux['Erro']),\n",
    "                 name=\"nd=\"+str(n_nd)+\" tsw=\"+str(n_tsw)))\n",
    "    else: \n",
    "        colors=colors[0]\n",
    "          \n",
    "        min=[]\n",
    "        max=[]\n",
    "        for n_nd in range(0,2):\n",
    "                \n",
    "            r_aux=add_data(previsao.loc[indice,n_nd,regressao,0])              \n",
    "\n",
    "            min.append(np.min(r_aux['Previsão']-r_aux['Erro']))\n",
    "            max.append(np.max(r_aux['Previsão']+r_aux['Erro']))\n",
    "\n",
    "            fig.add_trace(go.Bar(\n",
    "            #line=dict(color=colors[n_nd][n_tsw]),\n",
    "            marker={'color': colors[n_nd]},\n",
    "           #width=[3]*len(r_aux),\n",
    "            x=r_aux['data'],\n",
    "            y=r_aux['Previsão'],\n",
    "             error_y=dict(\n",
    "            type='data',\n",
    "            symmetric=True,\n",
    "            array=r_aux['Erro']),\n",
    "             name=\"nd=\"+str(n_nd)+\" tsw=\"+str(0)))\n",
    "\n",
    "#################\n",
    "    fig.update_layout(yaxis_range=[np.min(min),np.max(max)])\n",
    "    fig.update_layout(title={'text':indice,'x':0.5,'xanchor': 'center'})\n",
    "    fig.update_xaxes(dtick=\"M1\",    tickformat=\"%b\\n%Y\")\n",
    "    fig.show()"
   ]
  },
  {
   "cell_type": "code",
   "execution_count": 24,
   "metadata": {
    "execution": {
     "iopub.execute_input": "2021-06-16T01:27:58.349647Z",
     "iopub.status.busy": "2021-06-16T01:27:58.349647Z",
     "iopub.status.idle": "2021-06-16T01:27:58.363647Z",
     "shell.execute_reply": "2021-06-16T01:27:58.362647Z",
     "shell.execute_reply.started": "2021-06-16T01:27:58.349647Z"
    },
    "tags": []
   },
   "outputs": [],
   "source": [
    "####ipywidgets"
   ]
  },
  {
   "cell_type": "code",
   "execution_count": 25,
   "metadata": {
    "execution": {
     "iopub.execute_input": "2021-06-16T01:27:58.364646Z",
     "iopub.status.busy": "2021-06-16T01:27:58.364646Z",
     "iopub.status.idle": "2021-06-16T01:27:58.426668Z",
     "shell.execute_reply": "2021-06-16T01:27:58.425644Z",
     "shell.execute_reply.started": "2021-06-16T01:27:58.364646Z"
    },
    "tags": []
   },
   "outputs": [],
   "source": [
    "indices=ipywidgets.Dropdown(options=indices,  value=indices[0],  \n",
    "                            description='Índice: ',\n",
    "                           layout={'width': 'max-content'})\n",
    "\n",
    "nd=ipywidgets.Dropdown(options=[0,1],  value=0, \n",
    "                       description='nd:',\n",
    "                      layout={'width': 'max-content'})\n",
    "\n",
    "regressao=ipywidgets.Dropdown(options=regressao,  value=regressao[0],  \n",
    "                              description='Regressão:',\n",
    "                             layout={'width': 'max-content'})\n",
    "\n",
    "tsw=ipywidgets.Dropdown(options=[0,1],  value=0,  \n",
    "                        description='tsw:',\n",
    "                       layout={'width': 'max-content'})\n",
    "\n",
    "\n",
    "info=ipywidgets.HBox([indices,nd,regressao,tsw])"
   ]
  },
  {
   "cell_type": "code",
   "execution_count": 26,
   "metadata": {
    "execution": {
     "iopub.execute_input": "2021-06-16T01:27:58.428645Z",
     "iopub.status.busy": "2021-06-16T01:27:58.427645Z",
     "iopub.status.idle": "2021-06-16T01:27:59.456644Z",
     "shell.execute_reply": "2021-06-16T01:27:59.455642Z",
     "shell.execute_reply.started": "2021-06-16T01:27:58.427645Z"
    },
    "tags": []
   },
   "outputs": [
    {
     "data": {
      "application/vnd.jupyter.widget-view+json": {
       "model_id": "700afe026a99418ab9ec2d895438fbfe",
       "version_major": 2,
       "version_minor": 0
      },
      "text/plain": [
       "Tab(children=(Output(), VBox(children=(HBox(children=(Dropdown(description='Índice: ', layout=Layout(width='ma…"
      ]
     },
     "metadata": {},
     "output_type": "display_data"
    }
   ],
   "source": [
    "from IPython.display import display_html \n",
    "    \n",
    "out1 = ipywidgets.Output()\n",
    "out2 = ipywidgets.Output()\n",
    "out3= ipywidgets.Output()\n",
    "\n",
    "######## OUT1##################\n",
    "with out1:\n",
    "    i=0.1\n",
    "    f=.4\n",
    "    d1=df_color(teste_0f.astype(int).transpose(),\"plasma\",i,f).\\\n",
    "    set_table_attributes(\"style='display:inline'\").set_caption('Português (nd=0)')\n",
    "      \n",
    "    d2=df_color(teste_1f.astype(int).transpose(),\"plasma\",i,f).\\\n",
    "    set_table_attributes(\"style='display:inline'\").set_caption('Inglês (nd=1)')\n",
    "    \n",
    "    display_html(d1._repr_html_()+d2._repr_html_(), raw=True)        \n",
    "###### OUT 2#####################    \n",
    "\n",
    "g2=ipywidgets.interactive_output(plotly_real_prev_erro,  \n",
    "    {'indice':indices,'regressao':regressao})\n",
    "\n",
    "out2=ipywidgets.VBox([ipywidgets.HBox([indices,regressao]),g2])\n",
    "\n",
    "####   OUT3   #####################    \n",
    "g3=ipywidgets.interactive_output(plotly_real_prev,  \n",
    "    {'indice':indices,'regressao':regressao})\n",
    "\n",
    "out3=ipywidgets.VBox([ipywidgets.HBox([indices,regressao]),g3])\n",
    "\n",
    "    \n",
    "    \n",
    "##############################    \n",
    "tab = ipywidgets.Tab(children = [out1, out2,out3])\n",
    "tab.set_title(0, 'Erro médio (%)')\n",
    "tab.set_title(1, 'Erro plotly')\n",
    "tab.set_title(2, 'Previsão')\n",
    "\n",
    "display(tab)"
   ]
  }
 ],
 "metadata": {
  "kernelspec": {
   "display_name": "Python 3",
   "language": "python",
   "name": "python3"
  },
  "language_info": {
   "codemirror_mode": {
    "name": "ipython",
    "version": 3
   },
   "file_extension": ".py",
   "mimetype": "text/x-python",
   "name": "python",
   "nbconvert_exporter": "python",
   "pygments_lexer": "ipython3",
   "version": "3.8.8"
  },
  "toc-autonumbering": true
 },
 "nbformat": 4,
 "nbformat_minor": 4
}
